{
 "cells": [
  {
   "cell_type": "markdown",
   "metadata": {},
   "source": [
    "# Single-Step Tool Use"
   ]
  },
  {
   "cell_type": "markdown",
   "metadata": {},
   "source": [
    "- **여러 도구:** 예제에는 도구가 하나만 있었지만, 모델이 여러 도구를 사용할 수 있다면 어떻게 될까? 모델은 특정 시점에 어떤 도구를 사용할지 어떻게 추론하는가?\n",
    "- **병렬 도구 호출:** 우리는 단일 단계에서 단일 도구 호출만 보았지만, 둘 이상의 도구 호출이 필요한 경우 어떻게 보일까?\n",
    "- **도구를 사용하지 않을 때:** 질문이 도구 없이 모델에 의해 직접 답변될 수 있고, 그렇게 해야 한다면 어떻게 되는가?\n",
    "- **채팅 환경에서의 도구 사용:** 사용자가 후속 질문을 하는 경우, 즉 어시스턴트가 다중 턴 채팅 환경에서 대화의 맥락을 어떻게 유지하는가?"
   ]
  },
  {
   "cell_type": "markdown",
   "metadata": {},
   "source": [
    "## 도구 설정하기\n",
    "\n",
    "먼저 OpenAI 클라이언트를 설정하자. 나중에 사용할 `json` 모듈도 가져와야 한다."
   ]
  },
  {
   "cell_type": "code",
   "execution_count": 1,
   "metadata": {
    "tags": []
   },
   "outputs": [],
   "source": [
    "import os\n",
    "import json\n",
    "from typing import List, Dict\n",
    "from openai import OpenAI\n",
    "from dotenv import load_dotenv  \n",
    "\n",
    "load_dotenv()\n",
    "api_key = os.getenv(\"OPENAI_API_KEY\")\n",
    "\n",
    "client = OpenAI()"
   ]
  },
  {
   "cell_type": "markdown",
   "metadata": {},
   "source": [
    "### 1단계: 도구 생성하기\n",
    "\n",
    "이제 두 가지 도구를 만들어 보자:\n",
    "\n",
    "- 모의 판매 데이터베이스를 포함하는 판매 데이터베이스 쿼리 함수 `daily_sales_report` (이전 장과 동일)\n",
    "- 모의 제품 카탈로그를 포함하는 제품 카탈로그 쿼리 함수 `product_database` (새로운 함수)"
   ]
  },
  {
   "cell_type": "code",
   "execution_count": 2,
   "metadata": {
    "tags": []
   },
   "outputs": [],
   "source": [
    "def daily_sales_report(day: str) -> str:\n",
    "    \"\"\"\n",
    "    주어진 날짜의 판매 보고서를 검색하는 함수다.\n",
    "    \"\"\"\n",
    "    sales_database = {\n",
    "        '2025-08-28': {'total_sales_amount': 1000000, 'total_units_sold': 100},\n",
    "        '2025-08-29': {'total_sales_amount': 15000000, 'total_units_sold': 150},\n",
    "        '2025-08-30': {'total_sales_amount': 8000000, 'total_units_sold': 80}\n",
    "    }\n",
    "    \n",
    "    report = sales_database.get(day, {})\n",
    "    \n",
    "    if report:\n",
    "        result = {\n",
    "            'date': day,\n",
    "            'summary': f\"총 판매 금액: {report['total_sales_amount']}, 총 판매 수량: {report['total_units_sold']}\"\n",
    "        }\n",
    "    else:\n",
    "        result = {'date': day, 'summary': '해당 날짜에 대한 판매 데이터가 없습니다.'}\n",
    "    \n",
    "    return json.dumps(result, ensure_ascii=False)"
   ]
  },
  {
   "cell_type": "code",
   "execution_count": 3,
   "metadata": {
    "tags": []
   },
   "outputs": [],
   "source": [
    "def product_database(category: str) -> str:\n",
    "    \"\"\"\n",
    "    주어진 카테고리의 제품을 검색하는 함수다.\n",
    "    \"\"\"\n",
    "    product_catalog = {\n",
    "        'Electronics': [\n",
    "            {'product_id': 'E1001', 'name': 'Smartphone', 'price': 100000, 'stock_level': 20},\n",
    "            {'product_id': 'E1002', 'name': 'Laptop', 'price': 200000, 'stock_level': 15},\n",
    "            {'product_id': 'E1003', 'name': 'Tablet', 'price': 50000, 'stock_level': 25},\n",
    "        ],\n",
    "        'Clothing': [\n",
    "            {'product_id': 'C1001', 'name': 'T-Shirt', 'price': 2000, 'stock_level': 100},\n",
    "            {'product_id': 'C1002', 'name': 'Jeans', 'price': 5000, 'stock_level': 80},\n",
    "            {'product_id': 'C1003', 'name': 'Jacket', 'price': 10000, 'stock_level': 40},\n",
    "        ]\n",
    "    }\n",
    "    \n",
    "    products = product_catalog.get(category, [])\n",
    "    result = {\n",
    "        'category': category,\n",
    "        'products': products\n",
    "    }\n",
    "    return json.dumps(result, ensure_ascii=False)\n",
    "\n",
    "available_tools = {\n",
    "    \"daily_sales_report\": daily_sales_report,\n",
    "    \"product_database\": product_database\n",
    "}"
   ]
  },
  {
   "cell_type": "markdown",
   "metadata": {},
   "source": [
    "### 2단계: 도구 스키마 정의하기\n",
    "\n",
    "다음으로, 두 도구에 대한 스키마를 정의한다. 두 함수는 각각 `day`와 `category`라는 하나의 매개변수를 받는다."
   ]
  },
  {
   "cell_type": "code",
   "execution_count": 4,
   "metadata": {
    "tags": []
   },
   "outputs": [],
   "source": [
    "tools = [\n",
    "    {\n",
    "        \"type\": \"function\",\n",
    "        \"function\": {\n",
    "            \"name\": \"daily_sales_report\",\n",
    "            \"description\": \"데이터베이스에 연결하여 특정 날짜의 전체 판매량 및 판매 정보를 검색한다.\",\n",
    "            \"parameters\": {\n",
    "                \"type\": \"object\",\n",
    "                \"properties\": {\n",
    "                    \"day\": {\n",
    "                        \"type\": \"string\",\n",
    "                        \"description\": \"YYYY-MM-DD 형식으로 된, 판매 데이터를 검색할 날짜.\",\n",
    "                    }\n",
    "                },\n",
    "                \"required\": [\"day\"]\n",
    "            }\n",
    "        }\n",
    "    },\n",
    "    {\n",
    "        \"type\": \"function\",\n",
    "        \"function\": {\n",
    "            \"name\": \"product_database\",\n",
    "            \"description\": \"카테고리, 가격, 재고 수준 등 이 회사의 모든 제품에 대한 정보를 포함하는 데이터베이스다.\",\n",
    "            \"parameters\": {\n",
    "                \"type\": \"object\",\n",
    "                \"properties\": {\n",
    "                    \"category\": {\n",
    "                        \"type\": \"string\",\n",
    "                        \"description\": \"이 카테고리의 모든 제품에 대한 제품 정보를 검색한다.\",\n",
    "                    }\n",
    "                },\n",
    "                \"required\": [\"category\"]\n",
    "            }\n",
    "        }\n",
    "    }\n",
    "]"
   ]
  },
  {
   "cell_type": "markdown",
   "metadata": {},
   "source": [
    "### 3단계: 시스템 프롬프트 정의하기 (선택 사항)\n",
    "\n",
    "이전 장과 동일한 시스템 프롬프트를 유지한다."
   ]
  },
  {
   "cell_type": "code",
   "execution_count": 5,
   "metadata": {
    "tags": []
   },
   "outputs": [],
   "source": [
    "system_prompt = \"\"\"당신은 사용자의 질문과 요청에 대화형으로 답변하는 AI 어시스턴트입니다. \n",
    "다양한 주제에 대한 광범위한 요청을 받게 될 것입니다. \n",
    "답변을 조사하는 데 도움이 되는 다양한 검색 엔진이나 유사한 도구를 갖추고 있습니다. \n",
    "사용자의 요구를 최선을 다해 지원하는 데 집중해야 합니다.\n",
    "사용자가 다른 스타일의 답변을 요청하지 않는 한, 완전한 문장으로 올정한 문법과 철자법을 사용하여 답변해야 합니다.\n",
    "\"\"\""
   ]
  },
  {
   "cell_type": "markdown",
   "metadata": {},
   "source": [
    "## 단일 단계 도구 사용\n",
    "\n",
    "이제 이전 장에서 사용한 코드를 가져와 네 단계의 도구 사용 워크플로우를 자동화하는 `run_assistant` 함수를 만들어 보자. 이 함수는 다음을 수행한다:\n",
    "\n",
    "- 사용자 메시지를 받고 대화 기록에 추가한다 (1단계)\n",
    "- Chat API를 호출하여 도구 호출을 생성한다 (2단계)\n",
    "- 응답에 도구 호출이 하나 이상 포함된 경우, 도구 호출을 실행하고 결과를 얻는다 (3단계)\n",
    "- 도구 결과를 포함하여 다시 Chat API를 호출하여 최종 응답을 생성한다 (4단계)"
   ]
  },
  {
   "cell_type": "code",
   "execution_count": 6,
   "metadata": {
    "tags": []
   },
   "outputs": [],
   "source": [
    "MODEL = \"gpt-4o-mini\"\n",
    "\n",
    "def run_assistant(message: str, chat_history: List[Dict] = None) -> List[Dict]:\n",
    "    # 1단계: 사용자 메시지 받기\n",
    "    print(f\"질문:\\n{message}\")\n",
    "    print(\"=\"*50)\n",
    "    \n",
    "    if chat_history is None:\n",
    "        chat_history = [{\"role\": \"system\", \"content\": system_prompt}]\n",
    "    \n",
    "    # 현재 사용자 메시지를 대화 기록에 추가\n",
    "    chat_history.append({\"role\": \"user\", \"content\": message})\n",
    "    \n",
    "    # 2단계: 도구 호출 생성 (필요한 경우)\n",
    "    response = client.chat.completions.create(\n",
    "        model=MODEL,\n",
    "        messages=chat_history,\n",
    "        tools=tools,\n",
    "        tool_choice=\"auto\"\n",
    "    )\n",
    "    \n",
    "    response_message = response.choices[0].message\n",
    "    chat_history.append(response_message) # 어시스턴트의 응답(도구 호출 포함)을 기록에 추가\n",
    "\n",
    "    tool_calls = response_message.tool_calls\n",
    "\n",
    "    # 도구 호출이 필요한 경우에만 3, 4단계 실행\n",
    "    if tool_calls:\n",
    "        print(\"도구 호출:\")\n",
    "        for call in tool_calls:\n",
    "            print(f\"- 도구: {call.function.name} | 매개변수: {call.function.arguments}\")\n",
    "        print(\"=\"*50)\n",
    "        \n",
    "        # 3단계: 도구 결과 얻기\n",
    "        for tool_call in tool_calls:\n",
    "            function_name = tool_call.function.name\n",
    "            function_to_call = available_tools[function_name]\n",
    "            function_args = json.loads(tool_call.function.arguments)\n",
    "            function_response = function_to_call(**function_args)\n",
    "            \n",
    "            # 도구 실행 결과를 대화 기록에 추가\n",
    "            chat_history.append(\n",
    "                {\n",
    "                    \"tool_call_id\": tool_call.id,\n",
    "                    \"role\": \"tool\",\n",
    "                    \"name\": function_name,\n",
    "                    \"content\": function_response,\n",
    "                }\n",
    "            )\n",
    "        \n",
    "        # 4단계: 최종 응답 생성\n",
    "        final_response = client.chat.completions.create(\n",
    "            model=MODEL,\n",
    "            messages=chat_history\n",
    "        )\n",
    "        final_text = final_response.choices[0].message.content\n",
    "        chat_history.append(final_response.choices[0].message) # 최종 응답을 기록에 추가\n",
    "    else:\n",
    "        # 도구 호출이 필요 없는 경우, 첫 번째 응답이 최종 응답이다.\n",
    "        final_text = response_message.content\n",
    "\n",
    "    # 최종 응답 출력\n",
    "    print(\"최종 응답:\")\n",
    "    print(final_text)\n",
    "    print(\"=\"*50)\n",
    "\n",
    "    return chat_history"
   ]
  },
  {
   "cell_type": "code",
   "execution_count": 7,
   "metadata": {
    "tags": []
   },
   "outputs": [
    {
     "name": "stdout",
     "output_type": "stream",
     "text": [
      "질문:\n",
      "2025년 8월 29일의 판매 요약을 제공해 줄 수 있나요?\n",
      "==================================================\n",
      "도구 호출:\n",
      "- 도구: daily_sales_report | 매개변수: {\"day\":\"2025-08-29\"}\n",
      "==================================================\n",
      "최종 응답:\n",
      "2025년 8월 29일의 판매 요약은 다음과 같습니다. 총 판매 금액은 15,000,000원이었으며, 총 판매 수량은 150개였습니다. 더 궁금한 사항이 있으시면 말씀해 주세요.\n",
      "==================================================\n"
     ]
    }
   ],
   "source": [
    "chat_history = run_assistant(\"2025년 8월 29일의 판매 요약을 제공해 줄 수 있나요?\")"
   ]
  },
  {
   "cell_type": "markdown",
   "metadata": {},
   "source": [
    "어시스턴트는 사용 가능한 두 도구 중에서 `daily_sales_report`가 질문에 답하기에 충분하다고 정확하게 식별하고, 질문에 올바르게 답변한다.\n",
    "\n",
    "이 예제에서 모델은 질문에 답하기 위해 단일 단계가 필요하며, 그 단일 단계 내에서 단 하나의 도구 호출만 필요하다."
   ]
  },
  {
   "cell_type": "markdown",
   "metadata": {},
   "source": [
    "## 단일 단계, 병렬 도구 사용\n",
    "\n",
    "앞서 언급했듯이, 모델은 응답을 제공하기 위해 둘 이상의 도구가 필요하다고 결정할 수 있다. 이는 동일한 단계 내에서 여러 도구를 병렬로 호출하는 것을 의미한다. 이는 다음과 같을 수 있다:\n",
    "\n",
    "- 다른 도구를 병렬로 호출하기\n",
    "- 동일한 도구를 여러 번 병렬로 호출하기\n",
    "- 또는 둘의 조합"
   ]
  },
  {
   "cell_type": "code",
   "execution_count": 8,
   "metadata": {
    "tags": []
   },
   "outputs": [
    {
     "name": "stdout",
     "output_type": "stream",
     "text": [
      "질문:\n",
      "2025년 8월 28일과 29일의 판매 요약과 'Electronics' 카테고리 제품의 재고 수준을 알려줄 수 있나요?\n",
      "==================================================\n",
      "도구 호출:\n",
      "- 도구: daily_sales_report | 매개변수: {\"day\": \"2025-08-28\"}\n",
      "- 도구: daily_sales_report | 매개변수: {\"day\": \"2025-08-29\"}\n",
      "- 도구: product_database | 매개변수: {\"category\": \"Electronics\"}\n",
      "==================================================\n",
      "최종 응답:\n",
      "2025년 8월 28일과 29일의 판매 요약은 다음과 같습니다:\n",
      "\n",
      "- **2025년 8월 28일**: \n",
      "  - 총 판매액: 1,000,000 원\n",
      "  - 판매 건수: 100 건\n",
      "\n",
      "- **2025년 8월 29일**: \n",
      "  - 총 판매액: 15,000,000 원\n",
      "  - 판매 건수: 150 건\n",
      "\n",
      "또한, 'Electronics' 카테고리 제품의 재고 수준은 다음과 같습니다:\n",
      "\n",
      "1. **스마트폰 (Smartphone)**\n",
      "   - 가격: 100,000 원\n",
      "   - 재고 수준: 20 개\n",
      "\n",
      "2. **노트북 (Laptop)**\n",
      "   - 가격: 200,000 원\n",
      "   - 재고 수준: 15 개\n",
      "\n",
      "3. **태블릿 (Tablet)**\n",
      "   - 가격: 50,000 원\n",
      "   - 재고 수준: 25 개\n",
      "\n",
      "더 궁금한 점이나 필요하신 정보가 있다면 말씀해 주세요!\n",
      "==================================================\n"
     ]
    }
   ],
   "source": [
    "chat_history_parallel = run_assistant(\n",
    "    \"2025년 8월 28일과 29일의 판매 요약과 'Electronics' 카테고리 제품의 재고 수준을 알려줄 수 있나요?\"\n",
    ")"
   ]
  },
  {
   "cell_type": "markdown",
   "metadata": {},
   "source": [
    "## 직접 답변하기"
   ]
  },
  {
   "cell_type": "code",
   "execution_count": 9,
   "metadata": {
    "tags": []
   },
   "outputs": [
    {
     "name": "stdout",
     "output_type": "stream",
     "text": [
      "질문:\n",
      "성장하는 회사를 만드는 방법에 대한 간결한 팁 3가지를 알려주세요.\n",
      "==================================================\n",
      "최종 응답:\n",
      "성장하는 회사를 만드는 방법에 대한 간결한 팁 3가지는 다음과 같습니다:\n",
      "\n",
      "1. **명확한 비전과 목표 설정**: 회사의 방향성과 목표를 명확히 하고, 이를 바탕으로 전략을 수립하세요. 직원들과의 일관된 소통을 통해 모두가 같은 목표를 향해 나아가도록 합니다.\n",
      "\n",
      "2. **고객 중심의 접근**: 고객의 피드백을 적극적으로 수용하고, 그들의 필요와 요구에 맞춘 제품이나 서비스를 제공하세요. 고객 만족도와 충성도를 높이는 것이 지속 가능한 성장에 기여합니다.\n",
      "\n",
      "3. **디지털화 및 혁신 촉진**: 최신 기술을 활용하여 업무 효율성을 증대시키고, 시장의 변화에 빠르게 대응하세요. 혁신적인 아이디어와 프로세스를 통해 경쟁력을 유지하는 것이 중요합니다.\n",
      "==================================================\n"
     ]
    }
   ],
   "source": [
    "chat_history_direct1 = run_assistant(\n",
    "    \"성장하는 회사를 만드는 방법에 대한 간결한 팁 3가지를 알려주세요.\"\n",
    ")"
   ]
  },
  {
   "cell_type": "code",
   "execution_count": 10,
   "metadata": {
    "tags": []
   },
   "outputs": [
    {
     "name": "stdout",
     "output_type": "stream",
     "text": [
      "질문:\n",
      "현재 회사의 직원 수는 몇 명인가요?\n",
      "==================================================\n",
      "최종 응답:\n",
      "죄송하지만, 현재 회사의 직원 수에 대한 정보는 가지고 있지 않습니다. 해당 정보를 확인하려면 인사 부서나 관련 부서에 문의하셔야 할 것 같습니다. 다른 질문이나 요청이 있으시면 도와드리겠습니다!\n",
      "==================================================\n"
     ]
    }
   ],
   "source": [
    "chat_history_direct2 = run_assistant(\"현재 회사의 직원 수는 몇 명인가요?\")"
   ]
  },
  {
   "cell_type": "markdown",
   "metadata": {},
   "source": [
    "하지만 사용 가능한 도구 중 어느 것도 이 정보를 제공할 수 없기 때문에 모델은 어떤 도구 호출도 시도하지 않는다. 대신 사용자 질문에 직접 응답하여 질문에 답하는 데 필요한 정보가 없다고 언급한다."
   ]
  },
  {
   "cell_type": "markdown",
   "metadata": {},
   "source": [
    "## 상태 관리 (메모리)\n",
    "\n",
    "OpenAI API에서 각 턴의 채팅 기록은 다음 메시지들의 순차적인 목록이다:\n",
    "\n",
    "- `user` 역할의 메시지\n",
    "- `assistant` 역할의 메시지 (도구 호출 목록 포함)\n",
    "- `tool` 역할의 메시지 (도구 결과 목록 포함)\n",
    "- 마지막으로 `assistant` 역할의 메시지 (사용자에 대한 최종 응답)"
   ]
  },
  {
   "cell_type": "code",
   "execution_count": 11,
   "metadata": {
    "tags": []
   },
   "outputs": [
    {
     "name": "stdout",
     "output_type": "stream",
     "text": [
      "질문:\n",
      "2025년 8월 29일의 판매 요약을 제공해 줄 수 있나요?\n",
      "==================================================\n",
      "도구 호출:\n",
      "- 도구: daily_sales_report | 매개변수: {\"day\":\"2025-08-29\"}\n",
      "==================================================\n",
      "최종 응답:\n",
      "2025년 8월 29일의 판매 요약은 다음과 같습니다. 총 판매 금액은 15,000,000원이었으며, 총 판매 수량은 150개였습니다.\n",
      "==================================================\n"
     ]
    }
   ],
   "source": [
    "# 첫 번째 턴\n",
    "chat_history = run_assistant(\"2025년 8월 29일의 판매 요약을 제공해 줄 수 있나요?\")"
   ]
  },
  {
   "cell_type": "markdown",
   "metadata": {},
   "source": [
    "이전과 동일한 답변을 제공한다.\n",
    "\n",
    "이제 후속 질문을 해보자. 이전 턴의 맥락 없이는 모델이 답변할 수 없는 다소 모호한 질문이다. 여기서 첫 번째 턴의 `chat_history`를 `run_assistant` 함수에 전달한다."
   ]
  },
  {
   "cell_type": "code",
   "execution_count": 12,
   "metadata": {
    "tags": []
   },
   "outputs": [
    {
     "name": "stdout",
     "output_type": "stream",
     "text": [
      "질문:\n",
      "28일은 어땠나요?\n",
      "==================================================\n",
      "도구 호출:\n",
      "- 도구: daily_sales_report | 매개변수: {\"day\":\"2025-08-28\"}\n",
      "==================================================\n",
      "최종 응답:\n",
      "2025년 8월 28일의 판매 요약은 다음과 같습니다. 총 판매 금액은 1,000,000원이었으며, 총 판매 수량은 100개였습니다.\n",
      "==================================================\n"
     ]
    }
   ],
   "source": [
    "# 두 번째 턴\n",
    "chat_history = run_assistant(\"28일은 어땠나요?\", chat_history)"
   ]
  },
  {
   "cell_type": "markdown",
   "metadata": {},
   "source": [
    "모델은 이전 턴에서 물었던 내용 때문에 \"28일\"이 2025년 8월 28일을 의미한다고 추론할 수 있다.\n",
    "\n",
    "대화를 계속해 보자."
   ]
  },
  {
   "cell_type": "code",
   "execution_count": 13,
   "metadata": {
    "tags": []
   },
   "outputs": [
    {
     "name": "stdout",
     "output_type": "stream",
     "text": [
      "질문:\n",
      "이틀 동안 팔린 총 수량은 몇 개인가요?\n",
      "==================================================\n",
      "최종 응답:\n",
      "2025년 8월 28일과 29일 동안 팔린 총 수량은 다음과 같습니다.\n",
      "\n",
      "- 8월 28일: 100개\n",
      "- 8월 29일: 150개\n",
      "\n",
      "따라서 이틀 동안 팔린 총 수량은 100개 + 150개 = 250개입니다.\n",
      "==================================================\n"
     ]
    }
   ],
   "source": [
    "# 세 번째 턴\n",
    "chat_history = run_assistant(\"이틀 동안 팔린 총 수량은 몇 개인가요?\", chat_history)"
   ]
  },
  {
   "cell_type": "markdown",
   "metadata": {},
   "source": [
    "다시 한번, 모델은 채팅 맥락에서 \"이틀\"이 무엇을 의미하는지 추론할 수 있다.\n",
    "\n",
    "채팅 기록을 살펴보자. 이는 `user`, `assistant`, `tool` 메시지들이 올바른 턴 순서로 추가된 집합으로 구성되어, 모델이 새로운 응답을 생성할 때마다 올바른 맥락을 제공한다."
   ]
  },
  {
   "cell_type": "code",
   "execution_count": 14,
   "metadata": {
    "tags": []
   },
   "outputs": [
    {
     "name": "stdout",
     "output_type": "stream",
     "text": [
      "[{'content': '당신은 사용자의 질문과 요청에 대화형으로 답변하는 AI 어시스턴트입니다. \\n'\n",
      "             '다양한 주제에 대한 광범위한 요청을 받게 될 것입니다. \\n'\n",
      "             '답변을 조사하는 데 도움이 되는 다양한 검색 엔진이나 유사한 도구를 갖추고 있습니다. \\n'\n",
      "             '사용자의 요구를 최선을 다해 지원하는 데 집중해야 합니다.\\n'\n",
      "             '사용자가 다른 스타일의 답변을 요청하지 않는 한, 완전한 문장으로 올정한 문법과 철자법을 사용하여 답변해야 '\n",
      "             '합니다.\\n',\n",
      "  'role': 'system'},\n",
      " {'content': '2025년 8월 29일의 판매 요약을 제공해 줄 수 있나요?', 'role': 'user'},\n",
      " ChatCompletionMessage(content=None, refusal=None, role='assistant', annotations=[], audio=None, function_call=None, tool_calls=[ChatCompletionMessageToolCall(id='call_Htcrye504qi1Va8tdKHWT401', function=Function(arguments='{\"day\":\"2025-08-29\"}', name='daily_sales_report'), type='function')]),\n",
      " {'content': '{\"date\": \"2025-08-29\", \"summary\": \"총 판매 금액: 15000000, 총 판매 수량: '\n",
      "             '150\"}',\n",
      "  'name': 'daily_sales_report',\n",
      "  'role': 'tool',\n",
      "  'tool_call_id': 'call_Htcrye504qi1Va8tdKHWT401'},\n",
      " ChatCompletionMessage(content='2025년 8월 29일의 판매 요약은 다음과 같습니다. 총 판매 금액은 15,000,000원이었으며, 총 판매 수량은 150개였습니다.', refusal=None, role='assistant', annotations=[], audio=None, function_call=None, tool_calls=None),\n",
      " {'content': '28일은 어땠나요?', 'role': 'user'},\n",
      " ChatCompletionMessage(content=None, refusal=None, role='assistant', annotations=[], audio=None, function_call=None, tool_calls=[ChatCompletionMessageToolCall(id='call_GgdhrWBEvo4sE263W2EbXRjI', function=Function(arguments='{\"day\":\"2025-08-28\"}', name='daily_sales_report'), type='function')]),\n",
      " {'content': '{\"date\": \"2025-08-28\", \"summary\": \"총 판매 금액: 1000000, 총 판매 수량: '\n",
      "             '100\"}',\n",
      "  'name': 'daily_sales_report',\n",
      "  'role': 'tool',\n",
      "  'tool_call_id': 'call_GgdhrWBEvo4sE263W2EbXRjI'},\n",
      " ChatCompletionMessage(content='2025년 8월 28일의 판매 요약은 다음과 같습니다. 총 판매 금액은 1,000,000원이었으며, 총 판매 수량은 100개였습니다.', refusal=None, role='assistant', annotations=[], audio=None, function_call=None, tool_calls=None),\n",
      " {'content': '이틀 동안 팔린 총 수량은 몇 개인가요?', 'role': 'user'},\n",
      " ChatCompletionMessage(content='2025년 8월 28일과 29일 동안 팔린 총 수량은 다음과 같습니다.\\n\\n- 8월 28일: 100개\\n- 8월 29일: 150개\\n\\n따라서 이틀 동안 팔린 총 수량은 100개 + 150개 = 250개입니다.', refusal=None, role='assistant', annotations=[], audio=None, function_call=None, tool_calls=None)]\n"
     ]
    }
   ],
   "source": [
    "import pprint\n",
    "\n",
    "pprint.pprint(chat_history)"
   ]
  }
 ],
 "metadata": {
  "kernelspec": {
   "display_name": "lecture",
   "language": "python",
   "name": "lecture"
  },
  "language_info": {
   "codemirror_mode": {
    "name": "ipython",
    "version": 3
   },
   "file_extension": ".py",
   "mimetype": "text/x-python",
   "name": "python",
   "nbconvert_exporter": "python",
   "pygments_lexer": "ipython3",
   "version": "3.11.7"
  }
 },
 "nbformat": 4,
 "nbformat_minor": 4
}
