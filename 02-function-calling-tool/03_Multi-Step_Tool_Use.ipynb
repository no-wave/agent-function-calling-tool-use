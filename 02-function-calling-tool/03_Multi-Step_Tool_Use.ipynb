{
 "cells": [
  {
   "cell_type": "markdown",
   "metadata": {},
   "source": [
    "# Multi-Step Tool Use"
   ]
  },
  {
   "cell_type": "markdown",
   "metadata": {},
   "source": [
    "## 도구 설정하기"
   ]
  },
  {
   "cell_type": "code",
   "execution_count": 1,
   "metadata": {},
   "outputs": [],
   "source": [
    "import os\n",
    "import json\n",
    "from typing import List, Dict\n",
    "from openai import OpenAI\n",
    "from dotenv import load_dotenv  \n",
    "\n",
    "load_dotenv()\n",
    "api_key = os.getenv(\"OPENAI_API_KEY\")\n",
    "\n",
    "client = OpenAI()"
   ]
  },
  {
   "cell_type": "markdown",
   "metadata": {},
   "source": [
    "### 1단계: 도구 생성하기\n",
    "\n",
    "이제 두 가지 도구를 만들어 보자:\n",
    "\n",
    "- 주어진 날짜를 기준으로 기존 캘린더 이벤트를 나열하는 `list_calendar_events` 함수. 단순화를 위해 실제 캘린더에 연결하는 대신 모의 이벤트 기록을 포함할 것이다.\n",
    "- 제공된 날짜, 시간, 기간을 기준으로 새 캘린더 이벤트를 생성하는 `Calendar` 함수. 역시 단순화를 위해 실제 데이터베이스를 변경하는 대신 간단한 성공 메시지를 반환할 것이다."
   ]
  },
  {
   "cell_type": "code",
   "execution_count": 2,
   "metadata": {},
   "outputs": [],
   "source": [
    "def list_calendar_events(date: str) -> str:\n",
    "    \"\"\"주어진 날짜의 기존 이벤트 목록을 반환한다.\"\"\"\n",
    "    print(f\"[도구 호출] list_calendar_events 호출됨 (날짜: {date})\")\n",
    "    events = [{\"start\": \"8:00\", \"end\": \"8:59\"}, {\"start\": \"9:00\", \"end\": \"9:59\"}, {\"start\": \"11:00\", \"end\": \"11:59\"},{\"start\": \"12:00\", \"end\": \"12:59\"}]\n",
    "    return json.dumps({\"existing_events\": events})\n",
    "\n",
    "def create_calendar_event(date: str, time: str, duration: int) -> str:\n",
    "    \"\"\"새로운 캘린더 이벤트를 생성한다.\"\"\"\n",
    "    print(f\"[도구 호출] create_calendar_event 호출됨 (날짜: {date}, 시간: {time}, 기간: {duration}시간)\")\n",
    "    return json.dumps({\n",
    "        \"is_success\": True,\n",
    "        \"message\": f\"{date} {time}에 {duration}시간 길이의 이벤트가 생성되었습니다.\"\n",
    "    })\n",
    "\n",
    "available_tools = {\n",
    "    \"list_calendar_events\": list_calendar_events,\n",
    "    \"create_calendar_event\": create_calendar_event\n",
    "}"
   ]
  },
  {
   "cell_type": "markdown",
   "metadata": {},
   "source": [
    "### 2단계: 도구 스키마 정의하기\n",
    "\n",
    "다음으로 두 도구에 대한 스키마를 정의한다."
   ]
  },
  {
   "cell_type": "code",
   "execution_count": 3,
   "metadata": {
    "tags": []
   },
   "outputs": [],
   "source": [
    "tools = [\n",
    "    {\n",
    "        \"type\": \"function\",\n",
    "        \"function\": {\n",
    "            \"name\": \"list_calendar_events\",\n",
    "            \"description\": \"지정된 날짜의 기존 이벤트 목록을 반환하며, 각 이벤트의 시작 및 종료 시간을 포함한다.\",\n",
    "            \"parameters\": {\n",
    "                \"type\": \"object\",\n",
    "                \"properties\": {\n",
    "                    \"date\": {\n",
    "                        \"type\": \"string\",\n",
    "                        \"description\": \"이벤트를 나열할 날짜, YYYY-MM-DD 형식이다.\"\n",
    "                    }\n",
    "                },\n",
    "                \"required\": [\"date\"],\n",
    "                \"additionalProperties\": False\n",
    "            }\n",
    "        }\n",
    "    },\n",
    "    {\n",
    "        \"type\": \"function\",\n",
    "        \"function\": {\n",
    "            \"name\": \"create_calendar_event\",\n",
    "            \"description\": \"지정된 시간과 날짜에 지정된 기간의 새 캘린더 이벤트를 생성한다. 기존 이벤트와 동일한 시간에 새 이벤트를 생성할 수 없다.\",\n",
    "            \"parameters\": {\n",
    "                \"type\": \"object\",\n",
    "                \"properties\": {\n",
    "                    \"date\": {\n",
    "                        \"type\": \"string\",\n",
    "                        \"description\": \"이벤트가 시작되는 날짜, YYYY-MM-DD 형식이다.\"\n",
    "                    },\n",
    "                    \"time\": {\n",
    "                        \"type\": \"string\",\n",
    "                        \"description\": \"이벤트 시간, HH:MM 형식의 24시간 표기법을 사용한다.\"\n",
    "                    },\n",
    "                    \"duration\": {\n",
    "                        \"type\": \"integer\",\n",
    "                        \"description\": \"이벤트가 지속되는 시간(시간 단위).\",\n",
    "                        \"minimum\": 1\n",
    "                    }\n",
    "                },\n",
    "                \"required\": [\"date\", \"time\", \"duration\"],\n",
    "                \"additionalProperties\": False\n",
    "            }\n",
    "        }\n",
    "    }\n",
    "]"
   ]
  },
  {
   "cell_type": "markdown",
   "metadata": {},
   "source": [
    "### 3단계: 사용자 지정 시스템 프롬프트 생성하기 "
   ]
  },
  {
   "cell_type": "code",
   "execution_count": 4,
   "metadata": {},
   "outputs": [],
   "source": [
    "# 현재 날짜를 동적으로 설정한다.\n",
    "from datetime import datetime\n",
    "today = datetime.now().strftime('%Y-%m-%d')\n",
    "\n",
    "system_prompt = f\"\"\"## 임무 및 컨텍스트\n",
    "당신은 사람들이 캘린더에 이벤트를 예약하는 것을 돕는 캘린더 어시스턴트입니다. 새 이벤트가 기존 이벤트와 겹치지 않도록 해야 합니다.\n",
    "오늘은 {today}입니다.\n",
    "\"\"\""
   ]
  },
  {
   "cell_type": "markdown",
   "metadata": {},
   "source": [
    "## 다중 단계 도구 사용\n",
    "\n",
    "- 사용자 메시지를 받는다 (1단계)\n",
    "- 루프를 시작하여, 모델이 최종 답변을 내놓을 때까지 다음을 반복한다:\n",
    "  - Chat API를 호출하여 다음 행동(도구 호출 또는 최종 답변)을 결정한다 (2단계)\n",
    "  - 응답에 도구 호출이 있으면 실행하고 결과를 얻는다 (3단계)\n",
    "  - 도구 호출이 없으면 루프를 종료하고 최종 응답을 생성한다 (4단계)"
   ]
  },
  {
   "cell_type": "code",
   "execution_count": 5,
   "metadata": {},
   "outputs": [],
   "source": [
    "MODEL = \"gpt-4o-mini\"\n",
    "\n",
    "def run_assistant(message: str, chat_history: List[Dict] = None) -> List[Dict]:\n",
    "    print(f\"질문:\\n{message}\")\n",
    "    print(\"=\"*50)\n",
    "    \n",
    "    # 1단계: 대화 기록 초기화 및 사용자 메시지 추가\n",
    "    if chat_history is None:\n",
    "        chat_history = [{\"role\": \"system\", \"content\": system_prompt}]\n",
    "    chat_history.append({\"role\": \"user\", \"content\": message})\n",
    "    \n",
    "    # 2단계 & 3단계: 다중 단계 추론 루프\n",
    "    while True:\n",
    "        response = client.chat.completions.create(\n",
    "            model=MODEL,\n",
    "            messages=chat_history,\n",
    "            tools=tools,\n",
    "            tool_choice=\"auto\"\n",
    "        )\n",
    "        response_message = response.choices[0].message\n",
    "        tool_calls = response_message.tool_calls\n",
    "        \n",
    "        # 어시스턴트의 응답(도구 호출 포함 가능)을 기록에 추가\n",
    "        chat_history.append(response_message)\n",
    "        \n",
    "        if not tool_calls:\n",
    "            # 도구 호출이 없으면 루프를 중단하고 최종 답변으로 넘어간다.\n",
    "            break\n",
    "        \n",
    "        print(\"도구 호출 결정:\")\n",
    "        for call in tool_calls:\n",
    "            print(f\"- 도구: {call.function.name} | 매개변수: {call.function.arguments}\")\n",
    "        print(\"=\"*50)\n",
    "        \n",
    "        # 도구 호출 실행\n",
    "        for tool_call in tool_calls:\n",
    "            function_name = tool_call.function.name\n",
    "            function_to_call = available_tools[function_name]\n",
    "            function_args = json.loads(tool_call.function.arguments)\n",
    "            function_response = function_to_call(**function_args)\n",
    "            \n",
    "            # 도구 실행 결과를 대화 기록에 추가\n",
    "            chat_history.append(\n",
    "                {\n",
    "                    \"tool_call_id\": tool_call.id,\n",
    "                    \"role\": \"tool\",\n",
    "                    \"name\": function_name,\n",
    "                    \"content\": function_response,\n",
    "                }\n",
    "            )\n",
    "            \n",
    "    # 4단계: 최종 응답 출력\n",
    "    final_text = response_message.content\n",
    "    print(\"최종 응답:\")\n",
    "    print(final_text)\n",
    "    print(\"=\"*50)\n",
    "    \n",
    "    return chat_history"
   ]
  },
  {
   "cell_type": "code",
   "execution_count": 6,
   "metadata": {},
   "outputs": [
    {
     "name": "stdout",
     "output_type": "stream",
     "text": [
      "질문:\n",
      "오늘 회의가 몇 개나 있나요?\n",
      "==================================================\n",
      "도구 호출 결정:\n",
      "- 도구: list_calendar_events | 매개변수: {\"date\":\"2025-08-23\"}\n",
      "==================================================\n",
      "[도구 호출] list_calendar_events 호출됨 (날짜: 2025-08-23)\n",
      "최종 응답:\n",
      "오늘은 총 4개의 회의가 있습니다. 각 회의의 시간은 다음과 같습니다:\n",
      "\n",
      "1. 08:00 - 08:59\n",
      "2. 09:00 - 09:59\n",
      "3. 11:00 - 11:59\n",
      "4. 12:00 - 12:59\n",
      "==================================================\n"
     ]
    }
   ],
   "source": [
    "chat_history_single = run_assistant(\"오늘 회의가 몇 개나 있나요?\")"
   ]
  },
  {
   "cell_type": "code",
   "execution_count": 7,
   "metadata": {},
   "outputs": [
    {
     "name": "stdout",
     "output_type": "stream",
     "text": [
      "질문:\n",
      "오전 10시 이후 첫 번째 가능한 빈 슬롯에 1시간짜리 약속을 만들어주세요.\n",
      "==================================================\n",
      "도구 호출 결정:\n",
      "- 도구: list_calendar_events | 매개변수: {\"date\":\"2025-08-23\"}\n",
      "==================================================\n",
      "[도구 호출] list_calendar_events 호출됨 (날짜: 2025-08-23)\n",
      "도구 호출 결정:\n",
      "- 도구: create_calendar_event | 매개변수: {\"date\":\"2025-08-23\",\"time\":\"10:00\",\"duration\":1}\n",
      "==================================================\n",
      "[도구 호출] create_calendar_event 호출됨 (날짜: 2025-08-23, 시간: 10:00, 기간: 1시간)\n",
      "최종 응답:\n",
      "2025년 8월 23일 오전 10시에 1시간짜리 약속이 성공적으로 예약되었습니다.\n",
      "==================================================\n"
     ]
    }
   ],
   "source": [
    "chat_history_multi = run_assistant(\n",
    "    \"오전 10시 이후 첫 번째 가능한 빈 슬롯에 1시간짜리 약속을 만들어주세요.\"\n",
    ")"
   ]
  },
  {
   "cell_type": "code",
   "execution_count": 8,
   "metadata": {},
   "outputs": [
    {
     "name": "stdout",
     "output_type": "stream",
     "text": [
      "[{'content': '## 임무 및 컨텍스트\\n'\n",
      "             '당신은 사람들이 캘린더에 이벤트를 예약하는 것을 돕는 캘린더 어시스턴트입니다. 새 이벤트가 기존 이벤트와 겹치지 '\n",
      "             '않도록 해야 합니다.\\n'\n",
      "             '오늘은 2025-08-23입니다.\\n',\n",
      "  'role': 'system'},\n",
      " {'content': '오전 10시 이후 첫 번째 가능한 빈 슬롯에 1시간짜리 약속을 만들어주세요.', 'role': 'user'},\n",
      " ChatCompletionMessage(content=None, refusal=None, role='assistant', annotations=[], audio=None, function_call=None, tool_calls=[ChatCompletionMessageToolCall(id='call_otULwYcz5qxHMgHS9caGVpk5', function=Function(arguments='{\"date\":\"2025-08-23\"}', name='list_calendar_events'), type='function')]),\n",
      " {'content': '{\"existing_events\": [{\"start\": \"8:00\", \"end\": \"8:59\"}, {\"start\": '\n",
      "             '\"9:00\", \"end\": \"9:59\"}, {\"start\": \"11:00\", \"end\": \"11:59\"}, '\n",
      "             '{\"start\": \"12:00\", \"end\": \"12:59\"}]}',\n",
      "  'name': 'list_calendar_events',\n",
      "  'role': 'tool',\n",
      "  'tool_call_id': 'call_otULwYcz5qxHMgHS9caGVpk5'},\n",
      " ChatCompletionMessage(content=None, refusal=None, role='assistant', annotations=[], audio=None, function_call=None, tool_calls=[ChatCompletionMessageToolCall(id='call_rJ1bOI6F7rddifN70gyiSSM6', function=Function(arguments='{\"date\":\"2025-08-23\",\"time\":\"10:00\",\"duration\":1}', name='create_calendar_event'), type='function')]),\n",
      " {'content': '{\"is_success\": true, \"message\": \"2025-08-23 10:00\\\\uc5d0 '\n",
      "             '1\\\\uc2dc\\\\uac04 \\\\uae38\\\\uc774\\\\uc758 '\n",
      "             '\\\\uc774\\\\ubca4\\\\ud2b8\\\\uac00 '\n",
      "             '\\\\uc0dd\\\\uc131\\\\ub418\\\\uc5c8\\\\uc2b5\\\\ub2c8\\\\ub2e4.\"}',\n",
      "  'name': 'create_calendar_event',\n",
      "  'role': 'tool',\n",
      "  'tool_call_id': 'call_rJ1bOI6F7rddifN70gyiSSM6'},\n",
      " ChatCompletionMessage(content='2025년 8월 23일 오전 10시에 1시간짜리 약속이 성공적으로 예약되었습니다.', refusal=None, role='assistant', annotations=[], audio=None, function_call=None, tool_calls=None)]\n"
     ]
    }
   ],
   "source": [
    "import pprint\n",
    "\n",
    "pprint.pprint(chat_history_multi)"
   ]
  },
  {
   "cell_type": "markdown",
   "metadata": {},
   "source": [
    "## 다중 단계, 병렬 도구 사용"
   ]
  },
  {
   "cell_type": "code",
   "execution_count": 9,
   "metadata": {},
   "outputs": [
    {
     "name": "stdout",
     "output_type": "stream",
     "text": [
      "질문:\n",
      "오전 9시부터 오후 5시 사이의 가능한 시간에 1시간짜리 약속 두 개를 예약해주세요.\n",
      "==================================================\n",
      "도구 호출 결정:\n",
      "- 도구: list_calendar_events | 매개변수: {\"date\":\"2025-08-23\"}\n",
      "==================================================\n",
      "[도구 호출] list_calendar_events 호출됨 (날짜: 2025-08-23)\n",
      "도구 호출 결정:\n",
      "- 도구: create_calendar_event | 매개변수: {\"date\": \"2025-08-23\", \"time\": \"10:00\", \"duration\": 1}\n",
      "- 도구: create_calendar_event | 매개변수: {\"date\": \"2025-08-23\", \"time\": \"13:00\", \"duration\": 1}\n",
      "==================================================\n",
      "[도구 호출] create_calendar_event 호출됨 (날짜: 2025-08-23, 시간: 10:00, 기간: 1시간)\n",
      "[도구 호출] create_calendar_event 호출됨 (날짜: 2025-08-23, 시간: 13:00, 기간: 1시간)\n",
      "최종 응답:\n",
      "2025년 8월 23일에 다음과 같이 1시간짜리 약속 두 개가 성공적으로 예약되었습니다:\n",
      "\n",
      "1. 오전 10시부터 오전 11시까지\n",
      "2. 오후 1시부터 오후 2시까지\n",
      "\n",
      "다른 요청이 필요하시면 말씀해 주세요!\n",
      "==================================================\n"
     ]
    }
   ],
   "source": [
    "chat_history_parallel = run_assistant(\n",
    "    \"오전 9시부터 오후 5시 사이의 가능한 시간에 1시간짜리 약속 두 개를 예약해주세요.\"\n",
    ")"
   ]
  },
  {
   "cell_type": "markdown",
   "metadata": {},
   "source": [
    "## 상태 관리 (메모리)\n",
    "\n",
    "다중 단계 도구 사용도 같은 방식으로 작동한다. 각 턴의 채팅 기록은 다음 메시지로 구성되며, 새로운 턴마다 누적될 것이다.\n",
    "\n",
    "- `user` 메시지\n",
    "- `assistant` 메시지 (도구 호출 목록 포함)\n",
    "- `tool` 메시지 (도구 결과 목록 포함)\n",
    "- 최종 `assistant` 메시지 (사용자에 대한 최종 응답)"
   ]
  }
 ],
 "metadata": {
  "kernelspec": {
   "display_name": "lecture",
   "language": "python",
   "name": "lecture"
  },
  "language_info": {
   "codemirror_mode": {
    "name": "ipython",
    "version": 3
   },
   "file_extension": ".py",
   "mimetype": "text/x-python",
   "name": "python",
   "nbconvert_exporter": "python",
   "pygments_lexer": "ipython3",
   "version": "3.11.7"
  }
 },
 "nbformat": 4,
 "nbformat_minor": 4
}
