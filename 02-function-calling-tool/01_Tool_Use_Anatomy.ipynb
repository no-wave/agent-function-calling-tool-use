{
 "cells": [
  {
   "cell_type": "markdown",
   "metadata": {},
   "source": [
    "# Tool Use 도구 사용의 구조"
   ]
  },
  {
   "cell_type": "markdown",
   "metadata": {},
   "source": [
    "- 도구 설정하기\n",
    "- 도구 사용 워크플로우 실행하기"
   ]
  },
  {
   "cell_type": "markdown",
   "metadata": {},
   "source": [
    "## 도구 설정하기\n",
    "\n",
    "먼저, OpenAI 파이썬 라이브러리를 설치하고 클라이언트를 설정하자."
   ]
  },
  {
   "cell_type": "code",
   "execution_count": null,
   "metadata": {},
   "outputs": [],
   "source": [
    "%pip install -q openai python-dotenv"
   ]
  },
  {
   "cell_type": "code",
   "execution_count": 19,
   "metadata": {},
   "outputs": [],
   "source": [
    "import os\n",
    "import json\n",
    "from openai import OpenAI\n",
    "from dotenv import load_dotenv  \n",
    "\n",
    "!echo \"OPENAI_API_KEY=<Open AI 발급한 Key를 입력하세요.\" >> .env #최초만 설정하여 실행\n",
    "load_dotenv()\n",
    "api_key = os.getenv(\"OPENAI_API_KEY\")\n",
    "\n",
    "client = OpenAI()"
   ]
  },
  {
   "cell_type": "markdown",
   "metadata": {},
   "source": [
    "### 1단계: 도구 생성하기"
   ]
  },
  {
   "cell_type": "code",
   "execution_count": 20,
   "metadata": {},
   "outputs": [],
   "source": [
    "def daily_sales_report(day: str) -> str:\n",
    "    \"\"\"\n",
    "    주어진 날짜의 판매 보고서를 검색하는 함수다.\n",
    "    \"\"\"\n",
    "    # 일일 판매 보고서를 포함하는 모의 데이터베이스\n",
    "    sales_database = {\n",
    "        '2025-08-28': {'total_sales_amount': 1000000, 'total_units_sold': 100},\n",
    "        '2025-08-29': {'total_sales_amount': 15000000, 'total_units_sold': 150},\n",
    "        '2025-08-30': {'total_sales_amount': 8000000, 'total_units_sold': 80}\n",
    "    }\n",
    "    \n",
    "    report = sales_database.get(day, {})\n",
    "    \n",
    "    if report:\n",
    "        result = {\n",
    "            'date': day,\n",
    "            'summary': f\"총 판매 금액: {report['total_sales_amount']}, 총 판매 수량: {report['total_units_sold']}\"\n",
    "        }\n",
    "    else:\n",
    "        result = {'date': day, 'summary': '해당 날짜에 대한 판매 데이터가 없습니다.'}\n",
    "        \n",
    "    return json.dumps(result, ensure_ascii=False)\n",
    "\n",
    "# 도구 이름과 실제 함수를 매핑한다.\n",
    "available_tools = {\n",
    "    \"daily_sales_report\": daily_sales_report\n",
    "}"
   ]
  },
  {
   "cell_type": "markdown",
   "metadata": {},
   "source": [
    "### 2단계: 도구 스키마 정의하기"
   ]
  },
  {
   "cell_type": "code",
   "execution_count": 21,
   "metadata": {},
   "outputs": [],
   "source": [
    "tools = [\n",
    "    {\n",
    "        \"type\": \"function\",\n",
    "        \"function\": {\n",
    "            \"name\": \"daily_sales_report\",\n",
    "            \"description\": \"데이터베이스에 연결하여 특정 날짜의 전체 판매량 및 판매 정보를 검색한다.\",\n",
    "            \"parameters\": {\n",
    "                \"type\": \"object\",\n",
    "                \"properties\": {\n",
    "                    \"day\": {\n",
    "                        \"type\": \"string\",\n",
    "                        \"description\": \"YYYY-MM-DD 형식으로 된, 판매 데이터를 검색할 날짜.\",\n",
    "                    }\n",
    "                },\n",
    "                \"required\": [\"day\"]\n",
    "            }\n",
    "        }\n",
    "    }\n",
    "]"
   ]
  },
  {
   "cell_type": "markdown",
   "metadata": {},
   "source": [
    "### 3단계: 사용자 지정 시스템 프롬프트 생성하기"
   ]
  },
  {
   "cell_type": "code",
   "execution_count": 22,
   "metadata": {},
   "outputs": [],
   "source": [
    "system_prompt = \"\"\"당신은 사용자의 질문과 요청에 대화형으로 답변하는 AI 어시스턴트입니다. \n",
    "다양한 주제에 대한 광범위한 요청을 받게 될 것입니다. \n",
    "답변을 조사하는 데 도움이 되는 다양한 검색 엔진이나 유사한 도구를 갖추고 있습니다. \n",
    "사용자의 요구를 최선을 다해 지원하는 데 집중해야 합니다.\n",
    "사용자가 다른 스타일의 답변을 요청하지 않는 한, 완전한 문장으로 올바른 문법과 철자법을 사용하여 답변해야 합니다.\n",
    "\"\"\""
   ]
  },
  {
   "cell_type": "markdown",
   "metadata": {},
   "source": [
    "## 도구 워크플로우 실행하기\n",
    "가장 기본적으로, 이 네 구성 요소는 네 단계의 워크플로우를 통해 상호 작용한다:\n",
    "\n",
    "- **1단계: 사용자 메시지 받기**. LLM이 (애플리케이션을 통해) 사용자 메시지를 받는다.\n",
    "- **2단계: 도구 호출 생성하기**. LLM이 어떤 도구를 호출할지(필요하다면) 결정하고 도구 호출을 생성한다.\n",
    "- **3단계: 도구 결과 얻기**. 애플리케이션이 도구를 실행하고, 그 결과가 LLM에 전송된다.\n",
    "- **4단계: 응답 및 인용 생성하기**. LLM이 사용자에게 응답과 인용을 생성하여 반환한다."
   ]
  },
  {
   "cell_type": "markdown",
   "metadata": {},
   "source": [
    "### 1단계: 사용자 메시지 받기"
   ]
  },
  {
   "cell_type": "code",
   "execution_count": 23,
   "metadata": {},
   "outputs": [],
   "source": [
    "message = \"2025년 8월 29일의 판매 요약을 제공해 줄 수 있나요?\""
   ]
  },
  {
   "cell_type": "markdown",
   "metadata": {},
   "source": [
    "### 2단계: 도구 호출 생성하기"
   ]
  },
  {
   "cell_type": "code",
   "execution_count": 24,
   "metadata": {},
   "outputs": [
    {
     "name": "stdout",
     "output_type": "stream",
     "text": [
      "도구 호출이 생성되었습니다:\n",
      "#1\n",
      "도구: daily_sales_report\n",
      "매개변수: {\"day\":\"2025-08-29\"}\n",
      "\n"
     ]
    }
   ],
   "source": [
    "MODEL = \"gpt-4o-mini\"\n",
    "\n",
    "# 대화 기록을 관리할 메시지 리스트\n",
    "messages = [\n",
    "    {\"role\": \"system\", \"content\": system_prompt},\n",
    "    {\"role\": \"user\", \"content\": message}\n",
    "]\n",
    "\n",
    "# 1차 API 호출: 모델이 도구를 사용할지 결정한다.\n",
    "response = client.chat.completions.create(\n",
    "    model=MODEL,\n",
    "    messages=messages,\n",
    "    tools=tools,\n",
    "    tool_choice=\"auto\"\n",
    ")\n",
    "\n",
    "response_message = response.choices[0].message\n",
    "tool_calls = response_message.tool_calls\n",
    "\n",
    "if tool_calls:\n",
    "    print(\"도구 호출이 생성되었습니다:\")\n",
    "    for i, t in enumerate(tool_calls):\n",
    "        print(f\"#{i+1}\\n도구: {t.function.name}\\n매개변수: {t.function.arguments}\\n\")\n",
    "else:\n",
    "    print(\"모델이 도구를 호출하지 않고 바로 답변했습니다:\")\n",
    "    print(response_message.content)"
   ]
  },
  {
   "cell_type": "markdown",
   "metadata": {},
   "source": [
    "### 3단계: 도구 결과 얻기"
   ]
  },
  {
   "cell_type": "code",
   "execution_count": 25,
   "metadata": {},
   "outputs": [
    {
     "name": "stdout",
     "output_type": "stream",
     "text": [
      "도구 결과:\n",
      "{'tool_call_id': 'call_smxh4JgIM5rlNFLPhGPgsRMV', 'role': 'tool', 'name': 'daily_sales_report', 'content': '{\"date\": \"2025-08-29\", \"summary\": \"총 판매 금액: 15000000, 총 판매 수량: 150\"}'}\n"
     ]
    }
   ],
   "source": [
    "# 모델의 도구 호출 결정을 메시지 기록에 추가한다.\n",
    "messages.append(response_message)\n",
    "\n",
    "# 도구 호출을 실행하고 결과를 수집한다.\n",
    "for tool_call in tool_calls:\n",
    "    function_name = tool_call.function.name\n",
    "    function_to_call = available_tools[function_name]\n",
    "    function_args = json.loads(tool_call.function.arguments)\n",
    "    function_response = function_to_call(**function_args)\n",
    "    \n",
    "    # 도구 실행 결과를 메시지 기록에 추가한다.\n",
    "    messages.append(\n",
    "        {\n",
    "            \"tool_call_id\": tool_call.id,\n",
    "            \"role\": \"tool\",\n",
    "            \"name\": function_name,\n",
    "            \"content\": function_response,\n",
    "        }\n",
    "    )\n",
    "\n",
    "print(\"도구 결과:\")\n",
    "print(messages[-1]) # 마지막에 추가된 tool 메시지 출력"
   ]
  },
  {
   "cell_type": "markdown",
   "metadata": {},
   "source": [
    "### 4단계: 응답 생성하기"
   ]
  },
  {
   "cell_type": "code",
   "execution_count": 26,
   "metadata": {},
   "outputs": [
    {
     "name": "stdout",
     "output_type": "stream",
     "text": [
      "최종 응답:\n",
      "2025년 8월 29일의 판매 요약은 다음과 같습니다:\n",
      "\n",
      "- 총 판매 금액: 15,000,000원\n",
      "- 총 판매 수량: 150개\n",
      "\n",
      "더 궁금한 점이 있다면 말씀해 주세요!\n",
      "==================================================\n"
     ]
    }
   ],
   "source": [
    "# 2차 API 호출: 도구 결과를 바탕으로 최종 답변을 생성한다.\n",
    "final_response = client.chat.completions.create(\n",
    "    model=MODEL,\n",
    "    messages=messages\n",
    ")\n",
    "\n",
    "print(\"최종 응답:\")\n",
    "print(final_response.choices[0].message.content)\n",
    "print(\"=\"*50)"
   ]
  },
  {
   "cell_type": "markdown",
   "metadata": {},
   "source": [
    "LLM의 최종 응답은 다음과 같으며, 사용자의 질문(총 판매 금액: 15,000,000, 총 판매 수량: 150)에 정확하게 답변한다."
   ]
  },
  {
   "cell_type": "markdown",
   "metadata": {},
   "source": [
    "### 응답 스트리밍하기"
   ]
  },
  {
   "cell_type": "code",
   "execution_count": 27,
   "metadata": {
    "tags": []
   },
   "outputs": [
    {
     "name": "stdout",
     "output_type": "stream",
     "text": [
      "최종 응답 (스트리밍):\n",
      "2025년 8월 29일의 판매 요약은 다음과 같습니다: \n",
      "\n",
      "- 총 판매 금액: 15,000,000원\n",
      "- 총 판매 수량: 150개\n"
     ]
    }
   ],
   "source": [
    "# 스트리밍으로 최종 응답 생성\n",
    "stream = client.chat.completions.create(\n",
    "    model=MODEL,\n",
    "    messages=messages,\n",
    "    stream=True,\n",
    ")\n",
    "\n",
    "print(\"최종 응답 (스트리밍):\")\n",
    "for chunk in stream:\n",
    "    content = chunk.choices[0].delta.content\n",
    "    if content:\n",
    "        print(content, end=\"\", flush=True)\n",
    "print()  # 줄바꿈"
   ]
  }
 ],
 "metadata": {
  "kernelspec": {
   "display_name": "lecture",
   "language": "python",
   "name": "lecture"
  },
  "language_info": {
   "codemirror_mode": {
    "name": "ipython",
    "version": 3
   },
   "file_extension": ".py",
   "mimetype": "text/x-python",
   "name": "python",
   "nbconvert_exporter": "python",
   "pygments_lexer": "ipython3",
   "version": "3.11.7"
  }
 },
 "nbformat": 4,
 "nbformat_minor": 4
}
