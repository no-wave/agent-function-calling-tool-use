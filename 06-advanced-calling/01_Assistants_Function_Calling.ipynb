{
 "cells": [
  {
   "cell_type": "markdown",
   "metadata": {
    "id": "VEhk2s3INEHL"
   },
   "source": [
    "# Function calling: Assistants"
   ]
  },
  {
   "cell_type": "markdown",
   "metadata": {
    "id": "VEhk2s3INEHL"
   },
   "source": [
    "## 1\\. 환경 설정"
   ]
  },
  {
   "cell_type": "code",
   "execution_count": 3,
   "metadata": {
    "id": "5M6EcnZmNEHP",
    "tags": []
   },
   "outputs": [],
   "source": [
    "# 필요한 라이브러리를 설치한다.\n",
    "%pip install -q finance-datareader"
   ]
  },
  {
   "cell_type": "code",
   "execution_count": null,
   "metadata": {},
   "outputs": [],
   "source": [
    "import os\n",
    "from dotenv import load_dotenv  \n",
    "\n",
    "!echo \"OPENAI_API_KEY=<Open AI 발급한 Key를 입력하세요.\" >> .env #최초만 설정하여 실행\n",
    "load_dotenv()\n",
    "api_key = os.getenv(\"OPENAI_API_KEY\")\n",
    "\n",
    "MODEL=\"gpt-4.1-mini\""
   ]
  },
  {
   "cell_type": "code",
   "execution_count": 11,
   "metadata": {
    "id": "5M6EcnZmNEHP",
    "tags": []
   },
   "outputs": [],
   "source": [
    "import json\n",
    "import datetime\n",
    "import FinanceDataReader as fdr\n",
    "from openai import OpenAI\n",
    "\n",
    "client = OpenAI()"
   ]
  },
  {
   "cell_type": "markdown",
   "metadata": {
    "id": "UefP5f4PNEHR"
   },
   "source": [
    "## 2\\. Tools (함수) 정의\n",
    "\n",
    "모델이 사용할 수 있는 함수 목록을 `tools` 필드에 정의한다. \n",
    "\n",
    "각 함수는 **이름(name)**, **설명(description)**, 그리고 JSON Schema 형식의 \\*\\*파라미터(parameters)\\*\\*로 구성된다. \n",
    "\n",
    "이 명세를 통해 모델은 각 함수의 용도와 필요한 인자를 이해하게 된다."
   ]
  },
  {
   "cell_type": "code",
   "execution_count": 12,
   "metadata": {
    "id": "EZHdSsdnNEHR",
    "tags": []
   },
   "outputs": [],
   "source": [
    "tools = [\n",
    "    {\n",
    "        \"type\": \"function\",\n",
    "        \"function\": {\n",
    "            \"name\": \"get_stock_data\",\n",
    "            \"description\": \"특정 종목의 지정된 날짜의 주가나 거래량을 조회한다.\",\n",
    "            \"parameters\": {\n",
    "                \"type\": \"object\",\n",
    "                \"properties\": {\n",
    "                    \"ticker\": {\n",
    "                        \"type\": \"string\",\n",
    "                        \"description\": \"조회할 종목 코드(ticker). 예: '035420' (네이버)\",\n",
    "                    },\n",
    "                    \"date\": {\n",
    "                        \"type\": \"string\",\n",
    "                        \"description\": \"조회할 날짜. 'YYYY-MM-DD' 형식이다.\",\n",
    "                    },\n",
    "                    \"result_type\": {\n",
    "                        \"type\": \"string\",\n",
    "                        \"enum\": [\"price\", \"volume\"],\n",
    "                        \"description\": \"조회할 정보의 종류. 'price' 또는 'volume'이다.\",\n",
    "                    }\n",
    "                },\n",
    "                \"required\": [\"ticker\", \"date\", \"result_type\"]\n",
    "            }\n",
    "        }\n",
    "    },\n",
    "    {\n",
    "        \"type\": \"function\",\n",
    "        \"function\": {\n",
    "            \"name\": \"order_stock\",\n",
    "            \"description\": \"주식을 시장가 또는 지정가로 매수/매도 주문을 넣는다.\",\n",
    "            \"parameters\": {\n",
    "                \"type\": \"object\",\n",
    "                \"properties\": {\n",
    "                    \"ticker\": {\n",
    "                        \"type\": \"string\",\n",
    "                        \"description\": \"주문할 종목 코드(ticker). 예: 'NVDA' (엔비디아)\",\n",
    "                    },\n",
    "                    \"action_type\": {\n",
    "                        \"type\": \"string\",\n",
    "                        \"enum\": [\"매수\", \"매도\"],\n",
    "                        \"description\": \"주문 종류. '매수' 또는 '매도'이다.\",\n",
    "                    },\n",
    "                    \"shares\": {\n",
    "                        \"type\": \"integer\",\n",
    "                        \"description\": \"주문할 주식의 수.\",\n",
    "                    },\n",
    "                    \"order_type\": {\n",
    "                        \"type\": \"string\",\n",
    "                        \"enum\": [\"시장가\", \"지정가\"],\n",
    "                        \"description\": \"주문 방식. '시장가' 또는 '지정가'이다.\",\n",
    "                    },\n",
    "                    \"order_price\": {\n",
    "                        \"type\": \"number\",\n",
    "                        \"description\": \"지정가 주문일 경우의 목표 가격.\",\n",
    "                    }\n",
    "                },\n",
    "                \"required\": [\"ticker\", \"action_type\", \"shares\", \"order_type\"]\n",
    "            }\n",
    "        }\n",
    "    },\n",
    "    {\n",
    "        \"type\": \"function\",\n",
    "        \"function\": {\n",
    "            \"name\": \"calculate_currency\",\n",
    "            \"description\": \"한 화폐를 다른 화폐로 환율에 맞게 변환한다.\",\n",
    "            \"parameters\": {\n",
    "                \"type\": \"object\",\n",
    "                \"properties\": {\n",
    "                    \"from_currency\": {\n",
    "                        \"type\": \"string\",\n",
    "                        \"enum\": [\"KRW\", \"USD\", \"EUR\", \"JPY\"],\n",
    "                        \"description\": \"변환의 기준이 되는 화폐.\",\n",
    "                    },\n",
    "                    \"to_currency\": {\n",
    "                        \"type\": \"string\",\n",
    "                        \"enum\": [\"KRW\", \"USD\", \"EUR\", \"JPY\"],\n",
    "                        \"description\": \"변환하고자 하는 목표 화폐.\",\n",
    "                    },\n",
    "                    \"amount\": {\n",
    "                        \"type\": \"number\",\n",
    "                        \"description\": \"변환할 금액 (from_currency 기준).\",\n",
    "                    },\n",
    "                    \"date\": {\n",
    "                        \"type\": \"string\",\n",
    "                        \"description\": \"환율 기준 날짜. 'YYYY-MM-DD' 형식이다.\",\n",
    "                    }\n",
    "                },\n",
    "                \"required\": [\"from_currency\", \"to_currency\", \"amount\", \"date\"]\n",
    "            }\n",
    "        }\n",
    "    }\n",
    "]"
   ]
  },
  {
   "cell_type": "markdown",
   "metadata": {
    "id": "IuNVhQEzNEHS"
   },
   "source": [
    "## 3\\. 사용자 함수 구현\n",
    "\n",
    "`tools`에 정의한 함수들의 실제 로직을 파이썬 코드로 구현한다. 각 함수는 API 호출의 결과로 받은 인자들을 사용하여 동작한다."
   ]
  },
  {
   "cell_type": "code",
   "execution_count": 13,
   "metadata": {
    "id": "jpk5fWcDNEHS",
    "tags": []
   },
   "outputs": [],
   "source": [
    "def get_stock_data(ticker, date, result_type):\n",
    "    \"\"\"FinanceDataReader를 사용해 주식 데이터를 조회한다.\"\"\"\n",
    "    try:\n",
    "        stock_data = fdr.DataReader(ticker, date)\n",
    "        if stock_data.empty:\n",
    "            return json.dumps({\"error\": f\"{ticker}에 대한 {date} 데이터가 없다.\"})\n",
    "\n",
    "        row = stock_data.loc[date] if date in stock_data.index else stock_data.iloc[0]\n",
    "\n",
    "        if result_type == \"price\":\n",
    "            return json.dumps({\"date\": date, \"price\": float(row['Close'])})\n",
    "        elif result_type == \"volume\":\n",
    "            return json.dumps({\"date\": date, \"volume\": int(row['Volume'])})\n",
    "        else:\n",
    "            return json.dumps({\"error\": \"잘못된 조회 유형이다.\"})\n",
    "    except Exception as e:\n",
    "        return json.dumps({\"error\": str(e)})\n",
    "\n",
    "\n",
    "def order_stock(ticker, action_type, shares, order_type, order_price=None):\n",
    "    \"\"\"주식 주문을 시뮬레이션하고 결과를 반환한다.\"\"\"\n",
    "    if order_type == \"지정가\" and (order_price is None or order_price <= 0):\n",
    "        return json.dumps({\"error\": \"지정가 주문에는 유효한 가격이 필요하다.\"})\n",
    "\n",
    "    # 실제 환경에서는 이 부분에 DB 연동 또는 증권사 API 호출 로직이 들어간다.\n",
    "    return json.dumps({\"status\": \"success\", \"message\": f\"{ticker} 종목 {shares}주 {order_type}로 '{action_type}' 주문이 완료되었다.\"})\n",
    "\n",
    "\n",
    "def calculate_currency(from_currency, to_currency, amount, date):\n",
    "    \"\"\"가상의 고정 환율을 사용하여 금액을 변환한다.\"\"\"\n",
    "    # 실제 환경에서는 외부 환율 API를 호출하여 최신 정보를 가져와야 한다.\n",
    "    exchange_rates = {\n",
    "        \"KRW\": {\"USD\": 0.00073, \"EUR\": 0.00068, \"JPY\": 0.11},\n",
    "        \"USD\": {\"KRW\": 1370.50, \"EUR\": 0.93, \"JPY\": 157.33},\n",
    "        \"EUR\": {\"KRW\": 1475.25, \"USD\": 1.08, \"JPY\": 169.50},\n",
    "        \"JPY\": {\"KRW\": 8.71, \"USD\": 0.0064, \"EUR\": 0.0059},\n",
    "    }\n",
    "    rate = exchange_rates.get(from_currency, {}).get(to_currency)\n",
    "    if not rate:\n",
    "        return json.dumps({\"error\": \"지원되지 않는 통화다.\"})\n",
    "\n",
    "    converted_amount = round(amount * rate, 2)\n",
    "    return json.dumps({\"converted_amount\": f\"{converted_amount} {to_currency}\"})\n",
    "\n",
    "\n",
    "def process_tool_calls(tool_call):\n",
    "    \"\"\"모델이 요청한 함수를 이름에 따라 실행하고 결과를 반환한다.\"\"\"\n",
    "    tool_map = {\n",
    "        \"get_stock_data\": get_stock_data,\n",
    "        \"order_stock\": order_stock,\n",
    "        \"calculate_currency\": calculate_currency\n",
    "    }\n",
    "\n",
    "    func_name = tool_call.function.name\n",
    "    func_to_call = tool_map.get(func_name)\n",
    "\n",
    "    if not func_to_call:\n",
    "        raise ValueError(f\"알 수 없는 함수 이름: {func_name}\")\n",
    "\n",
    "    func_args = json.loads(tool_call.function.arguments)\n",
    "\n",
    "    return func_to_call(**func_args)"
   ]
  },
  {
   "cell_type": "markdown",
   "metadata": {
    "id": "AB0yXKdYNEHT"
   },
   "source": [
    "## 4\\. 실행 및 테스트\n",
    "\n",
    "이제 전체 실행 과정을 테스트한다. 사용자 질문을 받아 모델에 전달하고, 모델이 함수 호출을 요청하면 해당 함수를 실행한 뒤, 그 결과를 다시 모델에게 보내 최종 답변을 생성하도록 한다."
   ]
  },
  {
   "cell_type": "markdown",
   "metadata": {
    "id": "AB0yXKdYNEHT"
   },
   "source": [
    "### 4.1 단일 함수 호출"
   ]
  },
  {
   "cell_type": "code",
   "execution_count": 16,
   "metadata": {
    "id": "PjOvsK8iNEHT",
    "tags": []
   },
   "outputs": [
    {
     "name": "stdout",
     "output_type": "stream",
     "text": [
      "User: 네이버 2025-08-11 주가 알려줘\n",
      "Assistant 요청: get_stock_data({\"ticker\":\"035420\",\"date\":\"2025-08-11\",\"result_type\":\"price\"})\n",
      "Tool 실행 결과: {\"date\": \"2025-08-11\", \"price\": 223000.0}\n",
      "Assistant: 네이버(035420)의 2025년 8월 11일 주가는 223,000원 입니다.\n"
     ]
    }
   ],
   "source": [
    "# 사용자 질문을 정의한다.\n",
    "query = \"네이버 어제 날짜 주가 알려줘\"\n",
    "\n",
    "# 날짜를 동적으로 계산한다.\n",
    "yesterday = (datetime.datetime.now() - datetime.timedelta(days=1)).strftime('%Y-%m-%d')\n",
    "processed_query = query.replace(\"어제 날짜\", yesterday)\n",
    "\n",
    "messages = [{\"role\": \"user\", \"content\": processed_query}]\n",
    "print(f\"User: {processed_query}\")\n",
    "\n",
    "# 1단계: 모델에 메시지와 함수 정보를 전달한다.\n",
    "first_response = client.chat.completions.create(\n",
    "    model=MODEL,\n",
    "    messages=messages,\n",
    "    tools=tools,\n",
    "    tool_choice=\"auto\"\n",
    ")\n",
    "\n",
    "response_message = first_response.choices[0].message\n",
    "tool_calls = response_message.tool_calls\n",
    "\n",
    "# 2단계: 모델이 함수 호출을 요청했는지 확인한다.\n",
    "if not tool_calls:\n",
    "    print(f\"Assistant: {response_message.content}\")\n",
    "else:\n",
    "    # 3단계: 요청된 함수를 실행한다.\n",
    "    messages.append(response_message)  # 어시스턴트의 응답(함수 호출 요청)을 대화에 추가한다.\n",
    "\n",
    "    for tool_call in tool_calls:\n",
    "        print(f\"Assistant 요청: {tool_call.function.name}({tool_call.function.arguments})\")\n",
    "        function_response = process_tool_calls(tool_call)\n",
    "        print(f\"Tool 실행 결과: {function_response}\")\n",
    "\n",
    "        # 4단계: 함수 실행 결과를 대화에 추가한다.\n",
    "        messages.append(\n",
    "            {\n",
    "                \"tool_call_id\": tool_call.id,\n",
    "                \"role\": \"tool\",\n",
    "                \"name\": tool_call.function.name,\n",
    "                \"content\": function_response,\n",
    "            }\n",
    "        )\n",
    "\n",
    "    # 5단계: 함수 실행 결과를 포함하여 모델에 다시 요청해 최종 답변을 받는다.\n",
    "    second_response = client.chat.completions.create(\n",
    "        model=MODEL,\n",
    "        messages=messages\n",
    "    )\n",
    "\n",
    "    final_answer = second_response.choices[0].message.content\n",
    "    print(f\"Assistant: {final_answer}\")"
   ]
  },
  {
   "cell_type": "markdown",
   "metadata": {
    "id": "MICSTnyGNEHU"
   },
   "source": [
    "### 4.2 병렬 함수 호출\n",
    "\n",
    "OpenAI API는 하나의 요청에 대해 여러 함수를 동시에 호출하는 **병렬 함수 호출**을 기본적으로 지원한다. 아래 코드는 `get_stock_data`와 `order_stock`을 동시에 호출하는 예시다."
   ]
  },
  {
   "cell_type": "code",
   "execution_count": 17,
   "metadata": {
    "id": "Y25q240ANEHU",
    "tags": []
   },
   "outputs": [
    {
     "name": "stdout",
     "output_type": "stream",
     "text": [
      "User: 2025-08-12 테슬라 주가 얼마야? 그리고 시장가로 20주 매수 주문해줘.\n"
     ]
    }
   ],
   "source": [
    "# 사용자 질문\n",
    "query = \"오늘 테슬라 주가 얼마야? 그리고 시장가로 20주 매수 주문해줘.\"\n",
    "\n",
    "# 날짜를 동적으로 계산한다.\n",
    "today = datetime.datetime.now().strftime('%Y-%m-%d')\n",
    "processed_query = query.replace(\"오늘\", today)\n",
    "\n",
    "messages = [{\"role\": \"user\", \"content\": processed_query}]\n",
    "print(f\"User: {processed_query}\")\n",
    "\n",
    "# 1단계: 모델에 메시지와 함수 정보를 전달한다.\n",
    "first_response = client.chat.completions.create(\n",
    "    model=MODEL,\n",
    "    messages=messages,\n",
    "    tools=tools,\n",
    "    tool_choice=\"auto\"\n",
    ")\n",
    "response_message = first_response.choices[0].message\n",
    "tool_calls = response_message.tool_calls\n",
    "\n",
    "# 2단계: 모델의 함수 호출 요청을 처리한다.\n",
    "if tool_calls:\n",
    "    messages.append(response_message)\n",
    "\n",
    "    # 3단계: 모든 함수 호출을 실행한다.\n",
    "    for tool_call in tool_calls:\n",
    "        print(f\"Assistant 요청: {tool_call.function.name}({tool_call.function.arguments})\")\n",
    "        function_response = process_tool_calls(tool_call)\n",
    "        print(f\"Tool 실행 결과: {function_response}\")\n",
    "\n",
    "        messages.append(\n",
    "            {\n",
    "                \"tool_call_id\": tool_call.id,\n",
    "                \"role\": \"tool\",\n",
    "                \"name\": tool_call.function.name,\n",
    "                \"content\": function_response,\n",
    "            }\n",
    "        )\n",
    "\n",
    "    # 4단계: 모든 함수 실행 결과를 포함하여 최종 답변을 요청한다.\n",
    "    second_response = client.chat.completions.create(\n",
    "        model=MODEL,\n",
    "        messages=messages\n",
    "    )\n",
    "    final_answer = second_response.choices[0].message.content\n",
    "    print(f\"Assistant: {final_answer}\")"
   ]
  }
 ],
 "metadata": {
  "colab": {
   "provenance": []
  },
  "kernelspec": {
   "display_name": "lecture",
   "language": "python",
   "name": "lecture"
  },
  "language_info": {
   "codemirror_mode": {
    "name": "ipython",
    "version": 3
   },
   "file_extension": ".py",
   "mimetype": "text/x-python",
   "name": "python",
   "nbconvert_exporter": "python",
   "pygments_lexer": "ipython3",
   "version": "3.11.7"
  }
 },
 "nbformat": 4,
 "nbformat_minor": 4
}
