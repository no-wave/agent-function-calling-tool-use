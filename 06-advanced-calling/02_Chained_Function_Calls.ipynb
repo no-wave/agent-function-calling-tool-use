{
 "cells": [
  {
   "cell_type": "markdown",
   "metadata": {
    "id": "yXW7Z2GSeH7F"
   },
   "source": [
    "## Chained Function Calling"
   ]
  },
  {
   "cell_type": "code",
   "execution_count": 1,
   "metadata": {
    "tags": []
   },
   "outputs": [],
   "source": [
    "import os\n",
    "from dotenv import load_dotenv  \n",
    "\n",
    "load_dotenv()\n",
    "api_key = os.getenv(\"OPENAI_API_KEY\")\n",
    "\n",
    "MODEL=\"gpt-4.1-mini\""
   ]
  },
  {
   "cell_type": "code",
   "execution_count": null,
   "metadata": {
    "id": "1Dpre0qNeH7H"
   },
   "outputs": [],
   "source": [
    "%pip install -q jsonref"
   ]
  },
  {
   "cell_type": "code",
   "execution_count": 2,
   "metadata": {
    "id": "q-4ezH-ueH7I"
   },
   "outputs": [],
   "source": [
    "import json\n",
    "import jsonref \n",
    "import requests\n",
    "from pprint import pp \n",
    "\n",
    "from openai import OpenAI\n",
    "\n",
    "client = OpenAI()"
   ]
  },
  {
   "cell_type": "markdown",
   "metadata": {
    "id": "o3_TjjsBeH7I"
   },
   "source": [
    "## OpenAPI Specification를 함수 정의로 변환"
   ]
  },
  {
   "cell_type": "code",
   "execution_count": 3,
   "metadata": {
    "id": "Ar427mSmeH7I"
   },
   "outputs": [
    {
     "data": {
      "text/plain": [
       "{'openapi': '3.0.0',\n",
       " 'info': {'version': '1.0.0',\n",
       "  'title': 'Event Management API',\n",
       "  'description': 'An API for managing event data'},\n",
       " 'paths': {'/events': {'get': {'summary': 'List all events',\n",
       "    'operationId': 'listEvents',\n",
       "    'responses': {'200': {'description': 'A list of events',\n",
       "      'content': {'application/json': {'schema': {'type': 'array',\n",
       "         'items': {'type': 'object',\n",
       "          'properties': {'id': {'type': 'string'},\n",
       "           'name': {'type': 'string'},\n",
       "           'date': {'type': 'string', 'format': 'date-time'},\n",
       "           'location': {'type': 'string'}},\n",
       "          'required': ['name', 'date', 'location']}}}}}}},\n",
       "   'post': {'summary': 'Create a new event',\n",
       "    'operationId': 'createEvent',\n",
       "    'requestBody': {'required': True,\n",
       "     'content': {'application/json': {'schema': {'type': 'object',\n",
       "        'properties': {'id': {'type': 'string'},\n",
       "         'name': {'type': 'string'},\n",
       "         'date': {'type': 'string', 'format': 'date-time'},\n",
       "         'location': {'type': 'string'}},\n",
       "        'required': ['name', 'date', 'location']}}}},\n",
       "    'responses': {'201': {'description': 'The event was created',\n",
       "      'content': {'application/json': {'schema': {'type': 'object',\n",
       "         'properties': {'id': {'type': 'string'},\n",
       "          'name': {'type': 'string'},\n",
       "          'date': {'type': 'string', 'format': 'date-time'},\n",
       "          'location': {'type': 'string'}},\n",
       "         'required': ['name', 'date', 'location']}}}}}}},\n",
       "  '/events/{id}': {'get': {'summary': 'Retrieve an event by ID',\n",
       "    'operationId': 'getEventById',\n",
       "    'parameters': [{'name': 'id',\n",
       "      'in': 'path',\n",
       "      'required': True,\n",
       "      'schema': {'type': 'string'}}],\n",
       "    'responses': {'200': {'description': 'The event',\n",
       "      'content': {'application/json': {'schema': {'type': 'object',\n",
       "         'properties': {'id': {'type': 'string'},\n",
       "          'name': {'type': 'string'},\n",
       "          'date': {'type': 'string', 'format': 'date-time'},\n",
       "          'location': {'type': 'string'}},\n",
       "         'required': ['name', 'date', 'location']}}}}}},\n",
       "   'delete': {'summary': 'Delete an event by ID',\n",
       "    'operationId': 'deleteEvent',\n",
       "    'parameters': [{'name': 'id',\n",
       "      'in': 'path',\n",
       "      'required': True,\n",
       "      'schema': {'type': 'string'}}],\n",
       "    'responses': {'204': {'description': 'The event was deleted'}}},\n",
       "   'patch': {'summary': \"Update an event's details by ID\",\n",
       "    'operationId': 'updateEventDetails',\n",
       "    'parameters': [{'name': 'id',\n",
       "      'in': 'path',\n",
       "      'required': True,\n",
       "      'schema': {'type': 'string'}}],\n",
       "    'requestBody': {'required': True,\n",
       "     'content': {'application/json': {'schema': {'type': 'object',\n",
       "        'properties': {'name': {'type': 'string'},\n",
       "         'date': {'type': 'string', 'format': 'date-time'},\n",
       "         'location': {'type': 'string'}},\n",
       "        'required': ['name', 'date', 'location']}}}},\n",
       "    'responses': {'200': {'description': \"The event's details were updated\",\n",
       "      'content': {'application/json': {'schema': {'type': 'object',\n",
       "         'properties': {'id': {'type': 'string'},\n",
       "          'name': {'type': 'string'},\n",
       "          'date': {'type': 'string', 'format': 'date-time'},\n",
       "          'location': {'type': 'string'}},\n",
       "         'required': ['name', 'date', 'location']}}}}}}}},\n",
       " 'components': {'schemas': {'Event': {'type': 'object',\n",
       "    'properties': {'id': {'type': 'string'},\n",
       "     'name': {'type': 'string'},\n",
       "     'date': {'type': 'string', 'format': 'date-time'},\n",
       "     'location': {'type': 'string'}},\n",
       "    'required': ['name', 'date', 'location']}}}}"
      ]
     },
     "metadata": {},
     "output_type": "display_data"
    }
   ],
   "source": [
    "# 예제 OpenAPI 명세 파일을 읽어온다.\n",
    "with open('../dataset/example_events_openapi.json', 'r') as f:\n",
    "    # 아래에서 설명하겠지만, jsonref로 로드하는 것이 중요하다.\n",
    "    # jsonref.loads는 파일 내의 \"$ref\" 같은 참조를 실제 객체로 자동 변환해준다.\n",
    "    openapi_spec = jsonref.loads(f.read())\n",
    "\n",
    "# 로드된 명세 내용을 화면에 표시한다.\n",
    "display(openapi_spec)"
   ]
  },
  {
   "cell_type": "markdown",
   "metadata": {},
   "source": [
    "## OpenAPI Specification을 Function Calling으로 변환"
   ]
  },
  {
   "cell_type": "markdown",
   "metadata": {
    "id": "y1VE91YUeH7I"
   },
   "source": [
    "각 함수가 다음 키를 포함하는 딕셔너리로 표현되는 정의 리스트를 생성하기 위해 간단한 `openapi_to_functions` 함수를 작성할 수 있다:\n",
    "\n",
    "  - `name`: OpenAPI 명세에 정의된 API 엔드포인트의 `operationId`에 해당한다.\n",
    "  - `description`: 함수가 무엇을 하는지에 대한 개요를 제공하는 간략한 설명 또는 요약이다.\n",
    "  - `parameters`: 함수에 대한 예상 입력 매개변수를 정의하는 스키마이다. 각 매개변수의 유형, 필수 여부 및 기타 관련 세부 정보에 대한 정보를 제공한다.\n",
    "\n",
    "스키마에 정의된 각 엔드포인트에 대해 다음을 수행해야 한다:\n",
    "\n",
    "1.  **JSON 참조 해석**: OpenAPI 명세에서는 중복을 피하기 위해 JSON 참조(또는 $ref)를 사용하는 것이 일반적이다. 이 참조는 여러 곳에서 사용되는 정의를 가리킨다. 예를 들어, 여러 API 엔드포인트가 동일한 객체 구조를 반환하는 경우, 해당 구조를 한 번 정의한 다음 필요한 곳 어디에서나 참조할 수 있다. 우리는 이 참조들을 해석하고 가리키는 내용으로 교체해야 한다.\n",
    "\n",
    "2.  **함수 이름 추출**: 우리는 단순히 `operationId`를 함수 이름으로 사용할 것이다. 대안으로, 엔드포인트 경로와 작업을 함수 이름으로 사용할 수도 있다.\n",
    "\n",
    "3.  **설명 및 매개변수 추출**: `description`, `summary`, `requestBody`, `parameters` 필드를 순회하여 함수의 설명과 매개변수를 채울 것이다."
   ]
  },
  {
   "cell_type": "code",
   "execution_count": 4,
   "metadata": {
    "id": "xff-GHxNeH7I"
   },
   "outputs": [
    {
     "name": "stdout",
     "output_type": "stream",
     "text": [
      "{'type': 'function',\n",
      " 'function': {'name': 'listEvents',\n",
      "              'description': 'List all events',\n",
      "              'parameters': {'type': 'object', 'properties': {}}}}\n",
      "\n",
      "{'type': 'function',\n",
      " 'function': {'name': 'createEvent',\n",
      "              'description': 'Create a new event',\n",
      "              'parameters': {'type': 'object',\n",
      "                             'properties': {'requestBody': {'type': 'object',\n",
      "                                                            'properties': {'id': {'type': 'string'},\n",
      "                                                                           'name': {'type': 'string'},\n",
      "                                                                           'date': {'type': 'string',\n",
      "                                                                                    'format': 'date-time'},\n",
      "                                                                           'location': {'type': 'string'}},\n",
      "                                                            'required': ['name',\n",
      "                                                                         'date',\n",
      "                                                                         'location']}}}}}\n",
      "\n",
      "{'type': 'function',\n",
      " 'function': {'name': 'getEventById',\n",
      "              'description': 'Retrieve an event by ID',\n",
      "              'parameters': {'type': 'object',\n",
      "                             'properties': {'parameters': {'type': 'object',\n",
      "                                                           'properties': {'id': {'type': 'string'}}}}}}}\n",
      "\n",
      "{'type': 'function',\n",
      " 'function': {'name': 'deleteEvent',\n",
      "              'description': 'Delete an event by ID',\n",
      "              'parameters': {'type': 'object',\n",
      "                             'properties': {'parameters': {'type': 'object',\n",
      "                                                           'properties': {'id': {'type': 'string'}}}}}}}\n",
      "\n",
      "{'type': 'function',\n",
      " 'function': {'name': 'updateEventDetails',\n",
      "              'description': \"Update an event's details by ID\",\n",
      "              'parameters': {'type': 'object',\n",
      "                             'properties': {'requestBody': {'type': 'object',\n",
      "                                                            'properties': {'name': {'type': 'string'},\n",
      "                                                                           'date': {'type': 'string',\n",
      "                                                                                    'format': 'date-time'},\n",
      "                                                                           'location': {'type': 'string'}},\n",
      "                                                            'required': ['name',\n",
      "                                                                         'date',\n",
      "                                                                         'location']},\n",
      "                                            'parameters': {'type': 'object',\n",
      "                                                           'properties': {'id': {'type': 'string'}}}}}}}\n",
      "\n"
     ]
    }
   ],
   "source": [
    "def openapi_to_functions(openapi_spec):\n",
    "    \"\"\"\n",
    "    OpenAPI 명세 객체를 받아 Chat Completions API의 함수 정의 리스트로 변환한다.\n",
    "    \"\"\"\n",
    "    functions = [] # 함수 정의를 저장할 리스트\n",
    "\n",
    "    # 명세의 'paths'에 있는 모든 경로와 메서드를 순회한다.\n",
    "    for path, methods in openapi_spec[\"paths\"].items():\n",
    "        for method, spec_with_ref in methods.items():\n",
    "            # 1. JSON 참조를 해석한다.\n",
    "            # jsonref.replace_refs를 사용하여 $ref 부분을 실제 객체로 바꾼다.\n",
    "            spec = jsonref.replace_refs(spec_with_ref)\n",
    "\n",
    "            # 2. 함수 이름을 추출한다.\n",
    "            # operationId를 함수 이름으로 사용한다.\n",
    "            function_name = spec.get(\"operationId\")\n",
    "\n",
    "            # 3. 설명과 매개변수를 추출한다.\n",
    "            desc = spec.get(\"description\") or spec.get(\"summary\", \"\")\n",
    "\n",
    "            # 함수의 매개변수 스키마를 초기화한다.\n",
    "            schema = {\"type\": \"object\", \"properties\": {}}\n",
    "\n",
    "            # 요청 본문(requestBody) 스키마를 처리한다.\n",
    "            req_body = (\n",
    "                spec.get(\"requestBody\", {})\n",
    "                .get(\"content\", {})\n",
    "                .get(\"application/json\", {})\n",
    "                .get(\"schema\")\n",
    "            )\n",
    "            if req_body:\n",
    "                schema[\"properties\"][\"requestBody\"] = req_body\n",
    "\n",
    "            # URL 경로 또는 쿼리의 매개변수(parameters)를 처리한다.\n",
    "            params = spec.get(\"parameters\", [])\n",
    "            if params:\n",
    "                param_properties = {\n",
    "                    param[\"name\"]: param[\"schema\"]\n",
    "                    for param in params\n",
    "                    if \"schema\" in param\n",
    "                }\n",
    "                schema[\"properties\"][\"parameters\"] = {\n",
    "                    \"type\": \"object\",\n",
    "                    \"properties\": param_properties,\n",
    "                }\n",
    "\n",
    "            # 최종 함수 정의를 리스트에 추가한다.\n",
    "            functions.append(\n",
    "                {\"type\": \"function\", \"function\": {\"name\": function_name, \"description\": desc, \"parameters\": schema}}\n",
    "            )\n",
    "\n",
    "    return functions\n",
    "\n",
    "\n",
    "# 위에서 정의한 함수를 사용하여 OpenAPI 명세를 함수 리스트로 변환한다.\n",
    "functions = openapi_to_functions(openapi_spec)\n",
    "\n",
    "# 변환된 함수 정의를 하나씩 출력하여 확인한다.\n",
    "for function in functions:\n",
    "    pp(function)\n",
    "    print()"
   ]
  },
  {
   "cell_type": "markdown",
   "metadata": {
    "id": "J-n9eOxPeH7J"
   },
   "source": [
    "## OpenAI로 함수 호출"
   ]
  },
  {
   "cell_type": "code",
   "execution_count": 5,
   "metadata": {
    "tags": []
   },
   "outputs": [
    {
     "name": "stdout",
     "output_type": "stream",
     "text": [
      "\n",
      ">> 함수 호출 턴 #1\n",
      "\n",
      "[ChatCompletionMessageToolCall(id='call_cnAC1WZoDNTkd7YtTfkURp67', function=Function(arguments='{}', name='listEvents'), type='function')]\n",
      "\n",
      ">> 함수 호출 턴 #2\n",
      "\n",
      "[ChatCompletionMessageToolCall(id='call_xcIHk2V4lA7xpCKXv7iCR1Ry', function=Function(arguments='{\"requestBody\": {\"name\": \"AGI Party\", \"date\": \"2024-12-31T20:00:00\", \"location\": \"Seoul\"}}', name='createEvent'), type='function'),\n",
      " ChatCompletionMessageToolCall(id='call_6vonx5I0m7Bp92HVAuv7F0H3', function=Function(arguments='{\"parameters\": {\"id\": \"2456\"}}', name='deleteEvent'), type='function')]\n",
      "\n",
      ">> 메시지:\n",
      "\n",
      "모든 이벤트를 가져왔고, \"AGI Party\"라는 이름의 새 이벤트를 생성했으며, ID가 2456인 이벤트를 삭제했습니다.\n"
     ]
    }
   ],
   "source": [
    "def get_openai_response(functions, messages):\n",
    "    return client.chat.completions.create(\n",
    "        model=MODEL,\n",
    "        tools=functions,\n",
    "        tool_choice=\"auto\",\n",
    "        temperature=0,\n",
    "        messages=messages,\n",
    "        # 필요 시 병렬 tool 호출을 막고 싶다면(모델이 지원할 때만):\n",
    "        # parallel_tool_calls=False,\n",
    "    )\n",
    "\n",
    "def process_user_instruction(functions, instruction):\n",
    "    MAX_CALLS = 5\n",
    "    messages = [\n",
    "        {\"role\": \"system\", \"content\": \"\"\"\n",
    "당신은 도움이 되는 어시스턴트입니다.\n",
    "function_call을 사용하여 다음 프롬프트에 응답한 다음, 수행한 작업들을 요약하세요.\n",
    "사용자 요청이 모호하면 명확화를 위해 질문하세요.\n",
    "\"\"\" },\n",
    "        {\"role\": \"user\", \"content\": instruction},\n",
    "    ]\n",
    "\n",
    "    for step in range(MAX_CALLS):\n",
    "        response = get_openai_response(functions, messages)\n",
    "        msg = response.choices[0].message\n",
    "\n",
    "        # 1) tool_calls가 있으면: 모든 tool_call에 대해 'tool' 메시지를 각각 추가\n",
    "        if msg.tool_calls:\n",
    "            print(f\"\\n>> 함수 호출 턴 #{step + 1}\\n\")\n",
    "            pp(msg.tool_calls)\n",
    "\n",
    "            # assistant 메시지를 dict로 명시적으로 다시 추가(안정성↑)\n",
    "            messages.append({\n",
    "                \"role\": \"assistant\",\n",
    "                \"content\": msg.content,  # 보통 None이거나 요약 텍스트\n",
    "                \"tool_calls\": [\n",
    "                    {\n",
    "                        \"id\": tc.id,\n",
    "                        \"type\": \"function\",\n",
    "                        \"function\": {\n",
    "                            \"name\": tc.function.name,\n",
    "                            \"arguments\": tc.function.arguments,\n",
    "                        },\n",
    "                    }\n",
    "                    for tc in msg.tool_calls\n",
    "                ],\n",
    "            })\n",
    "\n",
    "            # 각 tool_call 별로 결과 메시지 추가 (여기서는 더미 실행)\n",
    "            for tc in msg.tool_calls:\n",
    "                fn_name = tc.function.name\n",
    "                # 모델이 넘긴 인자를 JSON으로 파싱 (빈 문자열/None 방어)\n",
    "                try:\n",
    "                    fn_args = json.loads(tc.function.arguments or \"{}\")\n",
    "                except Exception:\n",
    "                    fn_args = {\"_raw\": tc.function.arguments}\n",
    "\n",
    "                # 실제로는 여기서 해당 함수 실행 → 결과(result)를 얻어야 함\n",
    "                fake_result = {\n",
    "                    \"ok\": True,\n",
    "                    \"called\": fn_name,\n",
    "                    \"args\": fn_args,\n",
    "                    \"note\": \"이 부분에 실제 함수 실행 결과를 넣으세요.\",\n",
    "                }\n",
    "\n",
    "                messages.append({\n",
    "                    \"role\": \"tool\",\n",
    "                    \"tool_call_id\": tc.id,\n",
    "                    \"content\": json.dumps(fake_result, ensure_ascii=False),\n",
    "                })\n",
    "\n",
    "            # 모든 tool_call에 대해 응답을 붙였으니 다음 루프로 계속\n",
    "            continue\n",
    "\n",
    "        # 2) tool_calls가 없으면: 모델이 최종 텍스트를 반환한 것 → 출력 후 종료\n",
    "        print(\"\\n>> 메시지:\\n\")\n",
    "        print(msg.content or \"(빈 응답)\")\n",
    "        break\n",
    "    else:\n",
    "        print(f\"최대 연쇄 함수 호출 횟수에 도달했습니다: {MAX_CALLS}\")\n",
    "\n",
    "# 실행\n",
    "USER_INSTRUCTION = \"\"\"\n",
    "지시사항: 모든 이벤트를 가져오세요.\n",
    "그런 다음 AGI Party라는 이름의 새 이벤트를 만드세요.\n",
    "그런 다음 id 2456인 이벤트를 삭제하세요.\n",
    "\"\"\"\n",
    "functions = openapi_to_functions(openapi_spec)\n",
    "process_user_instruction(functions, USER_INSTRUCTION)"
   ]
  }
 ],
 "metadata": {
  "colab": {
   "provenance": []
  },
  "kernelspec": {
   "display_name": "lecture",
   "language": "python",
   "name": "lecture"
  },
  "language_info": {
   "codemirror_mode": {
    "name": "ipython",
    "version": 3
   },
   "file_extension": ".py",
   "mimetype": "text/x-python",
   "name": "python",
   "nbconvert_exporter": "python",
   "pygments_lexer": "ipython3",
   "version": "3.11.7"
  }
 },
 "nbformat": 4,
 "nbformat_minor": 4
}
