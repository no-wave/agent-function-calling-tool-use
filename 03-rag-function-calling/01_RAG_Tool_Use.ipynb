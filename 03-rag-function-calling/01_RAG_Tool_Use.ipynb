{
 "cells": [
  {
   "cell_type": "markdown",
   "metadata": {},
   "source": [
    "# RAG에서 도구 사용까지"
   ]
  },
  {
   "cell_type": "code",
   "execution_count": 7,
   "metadata": {
    "tags": []
   },
   "outputs": [],
   "source": [
    "import os\n",
    "from dotenv import load_dotenv  \n",
    "\n",
    "!echo \"OPENAI_API_KEY=<Open AI 발급한 Key를 입력하세요.\" >> .env #최초만 설정하여 실행\n",
    "load_dotenv()\n",
    "api_key = os.getenv(\"OPENAI_API_KEY\")"
   ]
  },
  {
   "cell_type": "code",
   "execution_count": 8,
   "metadata": {
    "tags": []
   },
   "outputs": [
    {
     "name": "stdout",
     "output_type": "stream",
     "text": [
      "모델이 함수 호출을 결정했습니다:\n",
      "[ChatCompletionMessageToolCall(id='call_elSahqz7tbzuzxuZkgYWA7ey', function=Function(arguments='{\"location\":\"서울, 대한민국\",\"unit\":\"celsius\"}', name='get_current_weather'), type='function')]\n"
     ]
    }
   ],
   "source": [
    "import json\n",
    "from openai import OpenAI\n",
    "\n",
    "\n",
    "client = OpenAI()\n",
    "\n",
    "# 1. 호출할 함수를 정의한다.\n",
    "def get_current_weather(location, unit=\"celsius\"):\n",
    "    \"\"\"지정된 위치의 현재 날씨 정보를 가져온다.\"\"\"\n",
    "    # 실제 구현에서는 날씨 API를 호출해야 하지만, 여기서는 예시를 위해 더미 데이터를 반환한다.\n",
    "    weather_info = {\n",
    "        \"location\": location,\n",
    "        \"temperature\": \"22\",\n",
    "        \"unit\": unit,\n",
    "        \"forecast\": [\"맑음\", \"바람 조금\"],\n",
    "    }\n",
    "    return json.dumps(weather_info)\n",
    "\n",
    "# 2. OpenAI 모델에게 함수(도구)를 설명하는 스키마를 정의한다.\n",
    "tools = [\n",
    "    {\n",
    "        \"type\": \"function\",\n",
    "        \"function\": {\n",
    "            \"name\": \"get_current_weather\",\n",
    "            \"description\": \"주어진 위치의 현재 날씨 정보를 가져온다\",\n",
    "            \"parameters\": {\n",
    "                \"type\": \"object\",\n",
    "                \"properties\": {\n",
    "                    \"location\": {\n",
    "                        \"type\": \"string\",\n",
    "                        \"description\": \"도시와 주, 예: 서울, 대한민국\",\n",
    "                    },\n",
    "                    \"unit\": {\"type\": \"string\", \"enum\": [\"celsius\", \"fahrenheit\"]},\n",
    "                },\n",
    "                \"required\": [\"location\"],\n",
    "            },\n",
    "        },\n",
    "    }\n",
    "]\n",
    "\n",
    "# 3. 모델에 함수 호출을 요청한다.\n",
    "messages = [{\"role\": \"user\", \"content\": \"서울의 현재 날씨는 어떤가?\"}]\n",
    "response = client.chat.completions.create(\n",
    "    model=\"gpt-4o-mini\",\n",
    "    messages=messages,\n",
    "    tools=tools,\n",
    "    tool_choice=\"auto\",  # 모델이 함수를 호출할지 여부를 자동으로 결정하도록 한다.\n",
    ")\n",
    "\n",
    "# 모델의 응답(tool_calls)을 확인하고 실제 함수를 실행하는 코드가 이어진다.\n",
    "# 이 부분은 다음 챕터에서 자세히 다룰 것이다.\n",
    "print(\"모델이 함수 호출을 결정했습니다:\")\n",
    "print(response.choices[0].message.tool_calls)"
   ]
  }
 ],
 "metadata": {
  "kernelspec": {
   "display_name": "lecture",
   "language": "python",
   "name": "lecture"
  },
  "language_info": {
   "codemirror_mode": {
    "name": "ipython",
    "version": 3
   },
   "file_extension": ".py",
   "mimetype": "text/x-python",
   "name": "python",
   "nbconvert_exporter": "python",
   "pygments_lexer": "ipython3",
   "version": "3.11.7"
  }
 },
 "nbformat": 4,
 "nbformat_minor": 4
}
