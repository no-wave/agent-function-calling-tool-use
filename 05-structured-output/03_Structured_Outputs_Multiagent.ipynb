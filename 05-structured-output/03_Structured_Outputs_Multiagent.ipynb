{
 "cells": [
  {
   "cell_type": "markdown",
   "metadata": {
    "id": "CFk2vPwaBaFD"
   },
   "source": [
    "# Multi-agent: 다중 에이전의 구조화된 출력\n",
    "\n",
    "\n",
    "'구조화된 출력'은 JSON 모드와 함수 호출을 기반으로 구축된 새로운 기능으로, 모델 출력이 엄격한 스키마를 따르도록 강제한다. 새로운 매개변수인 `strict: true`를 사용하여, 응답이 제공된 스키마를 준수함을 보장할 수 있다."
   ]
  },
  {
   "cell_type": "markdown",
   "metadata": {
    "id": "CFk2vPwaBaFD"
   },
   "source": [
    "## 환경 설정"
   ]
  },
  {
   "cell_type": "code",
   "execution_count": 1,
   "metadata": {
    "tags": []
   },
   "outputs": [],
   "source": [
    "# 필요한 라이브러리들을 가져온다.\n",
    "import json\n",
    "from textwrap import dedent\n",
    "from openai import OpenAI\n",
    "\n",
    "import os\n",
    "from dotenv import load_dotenv  \n",
    "\n",
    "load_dotenv()\n",
    "api_key = os.getenv(\"OPENAI_API_KEY\")\n",
    "\n",
    "MODEL = \"gpt-4.1-mini\"\n",
    "client = OpenAI()"
   ]
  },
  {
   "cell_type": "code",
   "execution_count": 2,
   "metadata": {
    "id": "1e0xoyGKBaFH",
    "tags": []
   },
   "outputs": [],
   "source": [
    "from IPython.display import Image\n",
    "import json\n",
    "import pandas as pd\n",
    "import matplotlib.pyplot as plt\n",
    "from io import StringIO\n",
    "import numpy as np"
   ]
  },
  {
   "cell_type": "markdown",
   "metadata": {
    "id": "1e0xoyGKBaFH"
   },
   "source": [
    "## 에이전트 설정\n",
    "\n",
    "먼저 4개의 에이전트로 구성된 시스템을 설정하자:\n",
    "\n",
    "1.  **분류 에이전트(Triaging agent):** 어떤 에이전트를 호출할지 결정한다.\n",
    "2.  **데이터 전처리 에이전트(Data pre-processing Agent):** 분석을 위해 데이터를 준비한다. (예: 데이터 정제)\n",
    "3.  **데이터 분석 에이전트(Data Analysis Agent):** 데이터에 대한 분석을 수행한다.\n",
    "4.  **데이터 시각화 에이전트(Data Visualization Agent):** 분석 결과를 시각화하여 통찰력을 추출한다.\n",
    "\n",
    "각 에이전트에 대한 시스템 프롬프트를 정의하는 것으로 시작할 것이다."
   ]
  },
  {
   "cell_type": "code",
   "execution_count": 3,
   "metadata": {
    "id": "1e0xoyGKBaFH",
    "tags": []
   },
   "outputs": [],
   "source": [
    "# 분류 에이전트를 위한 시스템 프롬프트이다.\n",
    "triaging_system_prompt = \"\"\"당신은 분류 에이전트다. 당신의 역할은 사용자의 쿼리를 평가하고 관련 에이전트에게 전달하는 것이다. 사용 가능한 에이전트는 다음과 같다:\n",
    "- 데이터 처리 에이전트: 데이터를 정제, 변환, 집계한다.\n",
    "- 분석 에이전트: 통계, 상관관계, 회귀 분석을 수행한다.\n",
    "- 시각화 에이전트: 막대 차트, 선 차트, 파이 차트를 생성한다.\n",
    "\n",
    "send_query_to_agents 도구를 사용하여 사용자의 쿼리를 관련 에이전트에게 전달하라. 또한, 필요한 경우 speak_to_user 도구를 사용하여 사용자로부터 추가 정보를 얻어라.\"\"\"\n",
    "\n",
    "# 데이터 처리 에이전트를 위한 시스템 프롬프트이다.\n",
    "processing_system_prompt = \"\"\"당신은 데이터 처리 에이전트다. 당신의 역할은 다음 도구들을 사용하여 데이터를 정제, 변환, 집계하는 것이다:\n",
    "- clean_data\n",
    "- transform_data\n",
    "- aggregate_data\"\"\"\n",
    "\n",
    "# 분석 에이전트를 위한 시스템 프롬프트이다.\n",
    "analysis_system_prompt = \"\"\"당신은 분석 에이전트다. 당신의 역할은 다음 도구들을 사용하여 통계, 상관관계, 회귀 분석을 수행하는 것이다:\n",
    "- stat_analysis\n",
    "- correlation_analysis\n",
    "- regression_analysis\"\"\"\n",
    "\n",
    "# 시각화 에이전트를 위한 시스템 프롬프트이다.\n",
    "visualization_system_prompt = \"\"\"당신은 시각화 에이전트다. 당신의 역할은 다음 도구들을 사용하여 막대 차트, 선 차트, 파이 차트를 생성하는 것이다:\n",
    "- create_bar_chart\n",
    "- create_line_chart\n",
    "- create_pie_chart\"\"\""
   ]
  },
  {
   "cell_type": "markdown",
   "metadata": {},
   "source": [
    "## Agent Tools 정의"
   ]
  },
  {
   "cell_type": "markdown",
   "metadata": {
    "id": "Hl9Y6HjQBaFJ"
   },
   "source": [
    "그런 다음 각 에이전트에 대한 도구를 정의할 것이다.\n",
    "\n",
    "분류 에이전트를 제외하고, 각 에이전트는 자신의 역할에 특화된 도구를 갖게 될 것이다:\n",
    "\n",
    "#### 데이터 전처리 에이전트\n",
    "\n",
    "1.  데이터 정제 (Clean data)\n",
    "2.  데이터 변환 (Transform data)\n",
    "3.  데이터 집계 (Aggregate data)\n",
    "\n",
    "#### 데이터 분석 에이전트\n",
    "\n",
    "1.  통계 분석 (Statistical analysis)\n",
    "2.  상관관계 분석 (Correlation analysis)\n",
    "3.  회귀 분석 (Regression Analysis)\n",
    "\n",
    "#### 데이터 시각화 에이전트\n",
    "\n",
    "1.  막대 차트 생성 (Create bar chart)\n",
    "2.  선 차트 생성 (Create line chart)\n",
    "3.  파이 차트 생성 (Create pie chart)\n",
    "\n",
    "<!-- end list -->"
   ]
  },
  {
   "cell_type": "code",
   "execution_count": 4,
   "metadata": {
    "id": "8aNgqV27BaFJ"
   },
   "outputs": [],
   "source": [
    "# 각 에이전트가 사용할 도구의 스키마를 정의한다.\n",
    "# 'strict: True'는 모델이 이 스키마를 엄격하게 따르도록 강제한다.\n",
    "\n",
    "# 분류 에이전트의 도구이다.\n",
    "triage_tools = [\n",
    "    {\n",
    "        \"type\": \"function\",\n",
    "        \"function\": {\n",
    "            \"name\": \"send_query_to_agents\",\n",
    "            \"description\": \"사용자 쿼리를 기능에 따라 관련 에이전트에게 보낸다.\",\n",
    "            \"parameters\": {\n",
    "                \"type\": \"object\",\n",
    "                \"properties\": {\n",
    "                    \"agents\": {\n",
    "                        \"type\": \"array\",\n",
    "                        \"items\": {\"type\": \"string\"},\n",
    "                        \"description\": \"쿼리를 보낼 에이전트 이름의 배열이다.\"\n",
    "                    },\n",
    "                    \"query\": {\n",
    "                        \"type\": \"string\",\n",
    "                        \"description\": \"보낼 사용자 쿼리이다.\"\n",
    "                    }\n",
    "                },\n",
    "                \"required\": [\"agents\", \"query\"]\n",
    "            }\n",
    "        },\n",
    "        \"strict\": True\n",
    "    }\n",
    "]\n",
    "\n",
    "# 데이터 전처리 에이전트의 도구이다.\n",
    "preprocess_tools = [\n",
    "    {\n",
    "        \"type\": \"function\",\n",
    "        \"function\": {\n",
    "            \"name\": \"clean_data\",\n",
    "            \"description\": \"중복을 제거하고 결측값을 처리하여 제공된 데이터를 정제한다.\",\n",
    "            \"parameters\": {\n",
    "                \"type\": \"object\",\n",
    "                \"properties\": {\n",
    "                    \"data\": {\n",
    "                        \"type\": \"string\",\n",
    "                        \"description\": \"정제할 데이터셋이다. JSON이나 CSV와 같은 적절한 형식이어야 한다.\"\n",
    "                    }\n",
    "                },\n",
    "                \"required\": [\"data\"],\n",
    "                \"additionalProperties\": False\n",
    "            }\n",
    "        },\n",
    "        \"strict\": True\n",
    "    },\n",
    "    # ... (transform_data, aggregate_data 도구 정의는 생략)\n",
    "]\n",
    "\n",
    "# 데이터 분석 에이전트의 도구이다.\n",
    "analysis_tools = [\n",
    "    {\n",
    "        \"type\": \"function\",\n",
    "        \"function\": {\n",
    "            \"name\": \"stat_analysis\",\n",
    "            \"description\": \"주어진 데이터셋에 대한 통계 분석을 수행한다.\",\n",
    "            \"parameters\": {\n",
    "                \"type\": \"object\",\n",
    "                \"properties\": {\n",
    "                    \"data\": {\n",
    "                        \"type\": \"string\",\n",
    "                        \"description\": \"분석할 데이터셋이다. JSON이나 CSV와 같은 적절한 형식이어야 한다.\"\n",
    "                    }\n",
    "                },\n",
    "                \"required\": [\"data\"],\n",
    "                \"additionalProperties\": False\n",
    "            }\n",
    "        },\n",
    "        \"strict\": True\n",
    "    },\n",
    "    # ... (correlation_analysis, regression_analysis 도구 정의는 생략)\n",
    "]\n",
    "\n",
    "# 데이터 시각화 에이전트의 도구이다.\n",
    "visualization_tools = [\n",
    "    {\n",
    "        \"type\": \"function\",\n",
    "        \"function\": {\n",
    "            \"name\": \"create_bar_chart\",\n",
    "            \"description\": \"제공된 데이터로 막대 차트를 생성한다.\",\n",
    "            \"parameters\": {\n",
    "                \"type\": \"object\",\n",
    "                \"properties\": {\n",
    "                    \"data\": {\n",
    "                        \"type\": \"string\",\n",
    "                        \"description\": \"막대 차트에 사용할 데이터이다. JSON이나 CSV와 같은 적절한 형식이어야 한다.\"\n",
    "                    },\n",
    "                    \"x\": {\n",
    "                        \"type\": \"string\",\n",
    "                        \"description\": \"x축에 대한 컬럼이다.\"\n",
    "                    },\n",
    "                    \"y\": {\n",
    "                        \"type\": \"string\",\n",
    "                        \"description\": \"y축에 대한 컬럼이다.\"\n",
    "                    }\n",
    "                },\n",
    "                \"required\": [\"data\", \"x\", \"y\"],\n",
    "                \"additionalProperties\": False\n",
    "            }\n",
    "        },\n",
    "        \"strict\": True\n",
    "    },\n",
    "    # ... (create_line_chart, create_pie_chart 도구 정의는 생략)\n",
    "]"
   ]
  },
  {
   "cell_type": "markdown",
   "metadata": {
    "id": "tEsllsutBaFK"
   },
   "source": [
    "## 도구 실행\n",
    "\n",
    "  - 사용자 쿼리를 다중 에이전트 시스템에 전달하는 것을 처리한다.\n",
    "  - 다중 에이전트 시스템의 내부 작동을 처리한다.\n",
    "  - 도구 호출을 실행한다."
   ]
  },
  {
   "cell_type": "code",
   "execution_count": 5,
   "metadata": {
    "id": "_nLu2yniBaFK"
   },
   "outputs": [],
   "source": [
    "# 예제 사용자 쿼리이다.\n",
    "user_query = \"\"\"\n",
    "아래는 일부 데이터다. 먼저 중복을 제거한 다음 데이터의 통계를 분석하고 선 차트를 그려달라.\n",
    "\n",
    "house_size (m3), house_price ($)\n",
    "90, 100\n",
    "80, 90\n",
    "100, 120\n",
    "90, 100\n",
    "\"\"\""
   ]
  },
  {
   "cell_type": "code",
   "execution_count": 6,
   "metadata": {
    "id": "sPczTVIuBaFL"
   },
   "outputs": [],
   "source": [
    "# 데이터 정제 함수이다.\n",
    "def clean_data(data):\n",
    "    data_io = StringIO(data)\n",
    "    df = pd.read_csv(data_io, sep=\",\")\n",
    "    df_deduplicated = df.drop_duplicates()\n",
    "    return df_deduplicated\n",
    "\n",
    "# 통계 분석 함수이다.\n",
    "def stat_analysis(data):\n",
    "    data_io = StringIO(data)\n",
    "    df = pd.read_csv(data_io, sep=\",\")\n",
    "    return df.describe()\n",
    "\n",
    "# 선 차트를 그리는 함수이다.\n",
    "def plot_line_chart(data):\n",
    "    data_io = StringIO(data)\n",
    "    df = pd.read_csv(data_io, sep=\",\")\n",
    "\n",
    "    x = df.iloc[:, 0]\n",
    "    y = df.iloc[:, 1]\n",
    "\n",
    "    # 최적 적합선을 계산한다.\n",
    "    coefficients = np.polyfit(x, y, 1)\n",
    "    polynomial = np.poly1d(coefficients)\n",
    "    y_fit = polynomial(x)\n",
    "\n",
    "    plt.figure(figsize=(10, 6))\n",
    "    plt.plot(x, y, 'o', label='데이터 포인트')\n",
    "    plt.plot(x, y_fit, '-', label='최적 적합선')\n",
    "    plt.title('최적 적합선을 포함한 선 차트')\n",
    "    plt.xlabel(df.columns[0])\n",
    "    plt.ylabel(df.columns[1])\n",
    "    plt.legend()\n",
    "    plt.grid(True)\n",
    "    plt.show()\n",
    "\n",
    "# 도구를 실행하는 함수를 정의한다.\n",
    "def execute_tool(tool_calls, messages):\n",
    "    for tool_call in tool_calls:\n",
    "        tool_name = tool_call.function.name\n",
    "        tool_arguments = json.loads(tool_call.function.arguments)\n",
    "\n",
    "        if tool_name == 'clean_data':\n",
    "            # 데이터 정제를 시뮬레이션한다.\n",
    "            cleaned_df = clean_data(tool_arguments['data'])\n",
    "            cleaned_data = {\"cleaned_data\": cleaned_df.to_dict()}\n",
    "            messages.append({\"role\": \"tool\", \"name\": tool_name, \"content\": json.dumps(cleaned_data)})\n",
    "            print('정제된 데이터: ', cleaned_df)\n",
    "        \n",
    "        elif tool_name == 'stat_analysis':\n",
    "            # 통계 분석을 시뮬레이션한다.\n",
    "            stats_df = stat_analysis(tool_arguments['data'])\n",
    "            stats = {\"stats\": stats_df.to_dict()}\n",
    "            messages.append({\"role\": \"tool\", \"name\": tool_name, \"content\": json.dumps(stats)})\n",
    "            print('통계 분석: ', stats_df)\n",
    "        \n",
    "        elif tool_name == 'create_line_chart':\n",
    "            # 선 차트 생성을 시뮬레이션한다.\n",
    "            line_chart = {\"line_chart\": \"sample_line_chart\"}\n",
    "            messages.append({\"role\": \"tool\", \"name\": tool_name, \"content\": json.dumps(line_chart)})\n",
    "            plot_line_chart(tool_arguments['data'])\n",
    "        # ... (다른 도구 실행 로직은 생략)\n",
    "    return messages"
   ]
  },
  {
   "cell_type": "code",
   "execution_count": 7,
   "metadata": {
    "id": "-cGeACC6BaFM"
   },
   "outputs": [],
   "source": [
    "# 각 에이전트의 처리를 담당하는 함수들을 정의한다.\n",
    "\n",
    "# 데이터 처리 에이전트 핸들러이다.\n",
    "def handle_data_processing_agent(query, conversation_messages):\n",
    "    messages = [{\"role\": \"system\", \"content\": processing_system_prompt}]\n",
    "    messages.append({\"role\": \"user\", \"content\": query})\n",
    "\n",
    "    response = client.chat.completions.create(\n",
    "        model=MODEL,\n",
    "        messages=messages,\n",
    "        temperature=0,\n",
    "        tools=preprocess_tools,\n",
    "    )\n",
    "\n",
    "    conversation_messages.append([tool_call.function for tool_call in response.choices[0].message.tool_calls])\n",
    "    execute_tool(response.choices[0].message.tool_calls, conversation_messages)\n",
    "\n",
    "# 분석 에이전트 핸들러이다.\n",
    "def handle_analysis_agent(query, conversation_messages):\n",
    "    messages = [{\"role\": \"system\", \"content\": analysis_system_prompt}]\n",
    "    messages.append({\"role\": \"user\", \"content\": query})\n",
    "\n",
    "    response = client.chat.completions.create(\n",
    "        model=MODEL,\n",
    "        messages=messages,\n",
    "        temperature=0,\n",
    "        tools=analysis_tools,\n",
    "    )\n",
    "\n",
    "    conversation_messages.append([tool_call.function for tool_call in response.choices[0].message.tool_calls])\n",
    "    execute_tool(response.choices[0].message.tool_calls, conversation_messages)\n",
    "\n",
    "# 시각화 에이전트 핸들러이다.\n",
    "def handle_visualization_agent(query, conversation_messages):\n",
    "    messages = [{\"role\": \"system\", \"content\": visualization_system_prompt}]\n",
    "    messages.append({\"role\": \"user\", \"content\": query})\n",
    "\n",
    "    response = client.chat.completions.create(\n",
    "        model=MODEL,\n",
    "        messages=messages,\n",
    "        temperature=0,\n",
    "        tools=visualization_tools,\n",
    "    )\n",
    "\n",
    "    conversation_messages.append([tool_call.function for tool_call in response.choices[0].message.tool_calls])\n",
    "    execute_tool(response.choices[0].message.tool_calls, conversation_messages)"
   ]
  },
  {
   "cell_type": "markdown",
   "metadata": {
    "id": "Ho8iKiRuBaFM"
   },
   "source": [
    "마지막으로, 사용자 쿼리 처리를 담당하는 포괄적인 도구를 생성한다.\n",
    "\n",
    "이 함수는 사용자 쿼리를 받아 모델로부터 응답을 얻고, 이를 다른 에이전트에게 전달하여 실행하도록 처리한다. 이 외에도, 진행 중인 대화의 상태를 유지할 것이다."
   ]
  },
  {
   "cell_type": "code",
   "execution_count": 8,
   "metadata": {
    "id": "FmuSJ9SFBaFM"
   },
   "outputs": [],
   "source": [
    "# 사용자 메시지를 처리하고 분류하는 함수이다.\n",
    "def handle_user_message(user_query, conversation_messages=[]):\n",
    "    user_message = {\"role\": \"user\", \"content\": user_query}\n",
    "    conversation_messages.append(user_message)\n",
    "\n",
    "    messages = [{\"role\": \"system\", \"content\": triaging_system_prompt}]\n",
    "    messages.extend(conversation_messages)\n",
    "\n",
    "    # 분류 에이전트를 호출하여 어떤 하위 에이전트를 사용할지 결정한다.\n",
    "    response = client.chat.completions.create(\n",
    "        model=MODEL,\n",
    "        messages=messages,\n",
    "        temperature=0,\n",
    "        tools=triage_tools,\n",
    "    )\n",
    "\n",
    "    conversation_messages.append([tool_call.function for tool_call in response.choices[0].message.tool_calls])\n",
    "\n",
    "    # 결정된 하위 에이전트들을 순차적으로 호출한다.\n",
    "    for tool_call in response.choices[0].message.tool_calls:\n",
    "        if tool_call.function.name == 'send_query_to_agents':\n",
    "            agents = json.loads(tool_call.function.arguments)['agents']\n",
    "            query = json.loads(tool_call.function.arguments)['query']\n",
    "            for agent in agents:\n",
    "                if agent == \"Data Processing Agent\":\n",
    "                    handle_data_processing_agent(query, conversation_messages)\n",
    "                elif agent == \"Analysis Agent\":\n",
    "                    handle_analysis_agent(query, conversation_messages)\n",
    "                elif agent == \"Visualization Agent\":\n",
    "                    handle_visualization_agent(query, conversation_messages)\n",
    "\n",
    "    return conversation_messages"
   ]
  },
  {
   "cell_type": "markdown",
   "metadata": {
    "id": "aCD7iAdIBaFN"
   },
   "source": [
    "## 다중 에이전트 시스템 실행\n",
    "\n",
    "마지막으로, 사용자 쿼리에 대해 포괄적인 `handle_user_message` 함수를 실행하고 출력을 확인한다."
   ]
  },
  {
   "cell_type": "code",
   "execution_count": 9,
   "metadata": {
    "id": "DCG2nTFkBaFN"
   },
   "outputs": [
    {
     "data": {
      "text/plain": [
       "[{'role': 'user',\n",
       "  'content': '\\n아래는 일부 데이터다. 먼저 중복을 제거한 다음 데이터의 통계를 분석하고 선 차트를 그려달라.\\n\\nhouse_size (m3), house_price ($)\\n90, 100\\n80, 90\\n100, 120\\n90, 100\\n'},\n",
       " [Function(arguments='{\"agents\": [\"데이터 처리 에이전트\"], \"query\": \"중복을 제거한 데이터: house_size (m3), house_price ($)\\\\n90, 100\\\\n80, 90\\\\n100, 120\\\\n90, 100\"}', name='send_query_to_agents'),\n",
       "  Function(arguments='{\"agents\": [\"분석 에이전트\"], \"query\": \"중복을 제거한 데이터에 대해 통계 분석을 수행하라. 데이터는 house_size (m3), house_price ($)이다.\"}', name='send_query_to_agents'),\n",
       "  Function(arguments='{\"agents\": [\"시각화 에이전트\"], \"query\": \"중복을 제거한 데이터에 대해 선 차트를 그려라. 데이터는 house_size (m3), house_price ($)이다.\"}', name='send_query_to_agents')]]"
      ]
     },
     "execution_count": 9,
     "metadata": {},
     "output_type": "execute_result"
    }
   ],
   "source": [
    "# 사용자 쿼리로 다중 에이전트 시스템을 실행한다.\n",
    "handle_user_message(user_query)"
   ]
  }
 ],
 "metadata": {
  "colab": {
   "provenance": []
  },
  "kernelspec": {
   "display_name": "lecture",
   "language": "python",
   "name": "lecture"
  },
  "language_info": {
   "codemirror_mode": {
    "name": "ipython",
    "version": 3
   },
   "file_extension": ".py",
   "mimetype": "text/x-python",
   "name": "python",
   "nbconvert_exporter": "python",
   "pygments_lexer": "ipython3",
   "version": "3.11.7"
  }
 },
 "nbformat": 4,
 "nbformat_minor": 4
}
