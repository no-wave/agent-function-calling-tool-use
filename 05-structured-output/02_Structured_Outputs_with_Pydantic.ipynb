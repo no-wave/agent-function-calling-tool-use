{
 "cells": [
  {
   "cell_type": "markdown",
   "metadata": {
    "id": "as3EioACAVib"
   },
   "source": [
    "# Structured Outputs: Pydantic "
   ]
  },
  {
   "cell_type": "markdown",
   "metadata": {
    "id": "as3EioACAVib"
   },
   "source": [
    "## 응답 형식 사용법\n",
    "\n",
    "이전에는 `response_format` 매개변수가 모델이 유효한 JSON을 반환하도록 지정하는 데만 사용 가능했다.\n",
    "\n",
    "이에 더해, 따라야 할 JSON 스키마를 지정하는 새로운 방법을 소개한다."
   ]
  },
  {
   "cell_type": "markdown",
   "metadata": {
    "id": "as3EioACAVib"
   },
   "source": [
    "## 환경 설정"
   ]
  },
  {
   "cell_type": "code",
   "execution_count": null,
   "metadata": {},
   "outputs": [],
   "source": [
    "%pip install -q pydantic eum"
   ]
  },
  {
   "cell_type": "code",
   "execution_count": 1,
   "metadata": {
    "id": "KYuQiU3uAVie",
    "tags": []
   },
   "outputs": [],
   "source": [
    "# 필요한 라이브러리들을 가져온다.\n",
    "import json\n",
    "from textwrap import dedent\n",
    "from openai import OpenAI\n",
    "\n",
    "import os\n",
    "from dotenv import load_dotenv  \n",
    "\n",
    "load_dotenv()\n",
    "api_key = os.getenv(\"OPENAI_API_KEY\")\n",
    "\n",
    "client = OpenAI()"
   ]
  },
  {
   "cell_type": "code",
   "execution_count": 2,
   "metadata": {
    "id": "IfQdcdjyAVie",
    "tags": []
   },
   "outputs": [],
   "source": [
    "# 사용할 모델을 정의한다.\n",
    "MODEL = \"gpt-4.1-mini\""
   ]
  },
  {
   "cell_type": "markdown",
   "metadata": {
    "id": "TqUboTLCAVie"
   },
   "source": [
    "## 예제 1: 수학 교사"
   ]
  },
  {
   "cell_type": "code",
   "execution_count": 3,
   "metadata": {
    "id": "rN94OUZgAVie",
    "tags": []
   },
   "outputs": [],
   "source": [
    "# 수학 교사를 위한 시스템 프롬프트를 정의한다.\n",
    "math_tutor_prompt = '''\n",
    "    당신은 도움이 되는 수학 교사다. 수학 문제가 주어지면,\n",
    "    단계별 해결책과 최종 답을 출력하는 것이 목표다.\n",
    "    각 단계에 대해서는 방정식으로 출력을 제공하고, 추론 과정을 자세히 설명하기 위해 설명 필드를 사용하라.\n",
    "'''\n",
    "\n",
    "# 수학 문제에 대한 해결책을 얻는 함수를 정의한다.\n",
    "def get_math_solution(question):\n",
    "    response = client.chat.completions.create(\n",
    "    model=MODEL,\n",
    "    messages=[\n",
    "        {\n",
    "            \"role\": \"system\",\n",
    "            \"content\": dedent(math_tutor_prompt) # dedent를 사용하여 들여쓰기를 제거한다.\n",
    "        },\n",
    "        {\n",
    "            \"role\": \"user\",\n",
    "            \"content\": question\n",
    "        }\n",
    "    ],\n",
    "    response_format={\n",
    "        \"type\": \"json_schema\",\n",
    "        \"json_schema\": {\n",
    "            \"name\": \"math_reasoning\",\n",
    "            \"schema\": {\n",
    "                \"type\": \"object\",\n",
    "                \"properties\": {\n",
    "                    \"steps\": {\n",
    "                        \"type\": \"array\",\n",
    "                        \"items\": {\n",
    "                            \"type\": \"object\",\n",
    "                            \"properties\": {\n",
    "                                \"explanation\": {\"type\": \"string\"},\n",
    "                                \"output\": {\"type\": \"string\"}\n",
    "                            },\n",
    "                            \"required\": [\"explanation\", \"output\"],\n",
    "                            \"additionalProperties\": False # 정의되지 않은 속성은 허용하지 않는다.\n",
    "                        }\n",
    "                    },\n",
    "                    \"final_answer\": {\"type\": \"string\"}\n",
    "                },\n",
    "                \"required\": [\"steps\", \"final_answer\"],\n",
    "                \"additionalProperties\": False\n",
    "            },\n",
    "            \"strict\": True # JSON 스키마를 엄격하게 따르도록 강제한다.\n",
    "        }\n",
    "    }\n",
    "    )\n",
    "\n",
    "    return response.choices[0].message"
   ]
  },
  {
   "cell_type": "code",
   "execution_count": 4,
   "metadata": {
    "id": "cOCDWLJ7AVif",
    "tags": []
   },
   "outputs": [
    {
     "name": "stdout",
     "output_type": "stream",
     "text": [
      "{\"steps\":[{\"explanation\":\"주어진 방정식은 8x + 7 = -23입니다. 먼저 양변에서 7을 빼서 x가 있는 항을 분리합니다.\",\"output\":\"8x + 7 - 7 = -23 - 7\"},{\"explanation\":\"좌변에서 7 - 7은 0이고, 우변에서 -23 - 7은 -30이므로 방정식은 8x = -30이 됩니다.\",\"output\":\"8x = -30\"},{\"explanation\":\"이제 양변을 8로 나누어 x의 값을 구합니다.\",\"output\":\"x = \\\\frac{-30}{8}\"},{\"explanation\":\"분수를 약분하면 x = -\\\\frac{15}{4}가 됩니다.\",\"output\":\"x = -\\\\frac{15}{4}\"}],\"final_answer\":\"x = -\\\\frac{15}{4}\"}\n"
     ]
    }
   ],
   "source": [
    "# 예제 질문으로 테스트한다.\n",
    "question = \"8x + 7 = -23 방정식을 어떻게 풀 수 있는가?\"\n",
    "\n",
    "result = get_math_solution(question)\n",
    "\n",
    "# 응답 내용을 JSON 형식으로 출력한다.\n",
    "print(result.content)"
   ]
  },
  {
   "cell_type": "code",
   "execution_count": 5,
   "metadata": {
    "id": "RqKQh5AyAVif",
    "tags": []
   },
   "outputs": [],
   "source": [
    "from IPython.display import Math, display\n",
    "\n",
    "# 수학 응답을 예쁘게 출력하는 함수를 정의한다.\n",
    "def print_math_response(response):\n",
    "    result = json.loads(response)\n",
    "    steps = result['steps']\n",
    "    final_answer = result['final_answer']\n",
    "    for i in range(len(steps)):\n",
    "        print(f\"단계 {i+1}: {steps[i]['explanation']}\\\\n\")\n",
    "        # display(Math(...))는 LaTeX 형식으로 수식을 렌더링한다.\n",
    "        display(Math(steps[i]['output']))\n",
    "        print(\"\\\\n\")\n",
    "\n",
    "    print(\"최종 답:\\\\n\\\\n\")\n",
    "    display(Math(final_answer))"
   ]
  },
  {
   "cell_type": "code",
   "execution_count": 6,
   "metadata": {
    "id": "AKXaYplGAVif",
    "tags": []
   },
   "outputs": [
    {
     "name": "stdout",
     "output_type": "stream",
     "text": [
      "단계 1: 주어진 방정식은 8x + 7 = -23입니다. 먼저 양변에서 7을 빼서 x가 있는 항을 분리합니다.\\n\n"
     ]
    },
    {
     "data": {
      "text/latex": [
       "$\\displaystyle 8x + 7 - 7 = -23 - 7$"
      ],
      "text/plain": [
       "<IPython.core.display.Math object>"
      ]
     },
     "metadata": {},
     "output_type": "display_data"
    },
    {
     "name": "stdout",
     "output_type": "stream",
     "text": [
      "\\n\n",
      "단계 2: 좌변에서 7 - 7은 0이고, 우변에서 -23 - 7은 -30이므로 방정식은 8x = -30이 됩니다.\\n\n"
     ]
    },
    {
     "data": {
      "text/latex": [
       "$\\displaystyle 8x = -30$"
      ],
      "text/plain": [
       "<IPython.core.display.Math object>"
      ]
     },
     "metadata": {},
     "output_type": "display_data"
    },
    {
     "name": "stdout",
     "output_type": "stream",
     "text": [
      "\\n\n",
      "단계 3: 이제 양변을 8로 나누어 x의 값을 구합니다.\\n\n"
     ]
    },
    {
     "data": {
      "text/latex": [
       "$\\displaystyle x = \\frac{-30}{8}$"
      ],
      "text/plain": [
       "<IPython.core.display.Math object>"
      ]
     },
     "metadata": {},
     "output_type": "display_data"
    },
    {
     "name": "stdout",
     "output_type": "stream",
     "text": [
      "\\n\n",
      "단계 4: 분수를 약분하면 x = -\\frac{15}{4}가 됩니다.\\n\n"
     ]
    },
    {
     "data": {
      "text/latex": [
       "$\\displaystyle x = -\\frac{15}{4}$"
      ],
      "text/plain": [
       "<IPython.core.display.Math object>"
      ]
     },
     "metadata": {},
     "output_type": "display_data"
    },
    {
     "name": "stdout",
     "output_type": "stream",
     "text": [
      "\\n\n",
      "최종 답:\\n\\n\n"
     ]
    },
    {
     "data": {
      "text/latex": [
       "$\\displaystyle x = -\\frac{15}{4}$"
      ],
      "text/plain": [
       "<IPython.core.display.Math object>"
      ]
     },
     "metadata": {},
     "output_type": "display_data"
    }
   ],
   "source": [
    "# 포맷팅된 수학 응답을 출력한다.\n",
    "print_math_response(result.content)"
   ]
  },
  {
   "cell_type": "markdown",
   "metadata": {
    "id": "evZzz89BAVif"
   },
   "source": [
    "## Pydantic 라이브러리의 `BaseModel`"
   ]
  },
  {
   "cell_type": "code",
   "execution_count": 7,
   "metadata": {
    "id": "0UqGWhdeAVif",
    "tags": []
   },
   "outputs": [],
   "source": [
    "from pydantic import BaseModel\n",
    "\n",
    "# Pydantic 모델을 사용하여 응답 구조를 정의한다.\n",
    "class MathReasoning(BaseModel):\n",
    "    class Step(BaseModel):\n",
    "        explanation: str\n",
    "        output: str\n",
    "\n",
    "    steps: list[Step]\n",
    "    final_answer: str\n",
    "\n",
    "# Pydantic 모델을 사용하여 응답을 파싱하는 함수를 재정의한다.\n",
    "def get_math_solution(question: str):\n",
    "    completion = client.beta.chat.completions.parse(\n",
    "        model=MODEL,\n",
    "        messages=[\n",
    "            {\"role\": \"system\", \"content\": dedent(math_tutor_prompt)},\n",
    "            {\"role\": \"user\", \"content\": question},\n",
    "        ],\n",
    "        response_format=MathReasoning, # JSON 스키마 대신 Pydantic 모델을 전달한다.\n",
    "    )\n",
    "\n",
    "    return completion.choices[0].message"
   ]
  },
  {
   "cell_type": "code",
   "execution_count": 8,
   "metadata": {
    "id": "oSoh-NVkAVif",
    "tags": []
   },
   "outputs": [],
   "source": [
    "# get_math_solution 함수를 호출하고 결과를 파싱한다.\n",
    "result = get_math_solution(question).parsed"
   ]
  },
  {
   "cell_type": "code",
   "execution_count": 9,
   "metadata": {
    "id": "p-38biRhAVig",
    "tags": []
   },
   "outputs": [
    {
     "name": "stdout",
     "output_type": "stream",
     "text": [
      "[Step(explanation='방정식 8x + 7 = -23에서 양변에서 7을 빼서 8x만 남기기 위해 양변에서 7을 뺍니다.', output='8x + 7 - 7 = -23 - 7'), Step(explanation='양변 계산 후 방정식은 8x = -30이 됩니다.', output='8x = -30'), Step(explanation='x의 계수 8로 양변을 나누어 x의 값을 구합니다.', output='x = \\\\frac{-30}{8}'), Step(explanation='분수를 기약분수로 단순화합니다.', output='x = -\\\\frac{15}{4}')]\n",
      "최종 답:\n",
      "x = -\\frac{15}{4}\n"
     ]
    }
   ],
   "source": [
    "# 파싱된 결과를 출력한다.\n",
    "print(result.steps)\n",
    "print(\"최종 답:\")\n",
    "print(result.final_answer)"
   ]
  },
  {
   "cell_type": "markdown",
   "metadata": {
    "id": "tTwgRwE1AVig"
   },
   "source": [
    "## 예제 2: 텍스트 요약"
   ]
  },
  {
   "cell_type": "code",
   "execution_count": 12,
   "metadata": {
    "id": "f1W6Pxm-AVig",
    "tags": []
   },
   "outputs": [],
   "source": [
    "# 분석할 파일 경로 목록을 정의한다.\n",
    "articles = [\n",
    "    \"../dataset/mcp-acp-a2a.md\",\n",
    "]"
   ]
  },
  {
   "cell_type": "code",
   "execution_count": 13,
   "metadata": {
    "id": "g8RLsVHNAVig",
    "tags": []
   },
   "outputs": [],
   "source": [
    "# 파일 경로에서 기사 내용을 읽는 함수를 정의한다.\n",
    "def get_article_content(path):\n",
    "    with open(path, 'r') as f:\n",
    "        content = f.read()\n",
    "    return content\n",
    "\n",
    "# 각 기사 파일의 내용을 읽어온다.\n",
    "content = [get_article_content(path) for path in articles]"
   ]
  },
  {
   "cell_type": "code",
   "execution_count": 23,
   "metadata": {
    "id": "evrvVv_6AVig",
    "tags": []
   },
   "outputs": [],
   "source": [
    "# 텍스트 요약을 위한 시스템 프롬프트를 정의한다.\n",
    "summarization_prompt = '''\n",
    "    발명에 관한 기사 내용이 제공될 것이다.\n",
    "    제공된 스키마에 따라 기사를 요약하는 것이 목표다.\n",
    "    매개변수에 대한 설명은 다음과 같다:\n",
    "    - invented_year: 기사에서 논의된 발명이 발명된 연도\n",
    "    - summary: 발명품이 무엇인지에 대한 한 문장 요약\n",
    "    - inventors: 발명가의 전체 이름이 있는 경우 목록으로 표시하고, 그렇지 않으면 성만 표시하는 문자열 배열\n",
    "    - concepts: 발명과 관련된 주요 개념 배열, 각 개념은 제목과 설명을 포함한다.\n",
    "    - description: 발명품에 대한 간략한 설명dmf gksrmffh\n",
    "'''\n",
    "\n",
    "# 기사 요약을 위한 Pydantic 모델을 정의한다.\n",
    "class ArticleSummary(BaseModel):\n",
    "    invented_year: int\n",
    "    summary: str\n",
    "    inventors: list[str]\n",
    "    description: str\n",
    "\n",
    "    class Concept(BaseModel):\n",
    "        title: str\n",
    "        description: str\n",
    "\n",
    "    concepts: list[Concept]\n",
    "\n",
    "# 기사 텍스트를 받아 요약을 반환하는 함수를 정의한다.\n",
    "def get_article_summary(text: str):\n",
    "    completion = client.beta.chat.completions.parse(\n",
    "        model=MODEL,\n",
    "        temperature=0.2, # 응답의 일관성을 높이기 위해 온도를 낮게 설정한다.\n",
    "        messages=[\n",
    "            {\"role\": \"system\", \"content\": dedent(summarization_prompt)},\n",
    "            {\"role\": \"user\", \"content\": text}\n",
    "        ],\n",
    "        response_format=ArticleSummary,\n",
    "    )\n",
    "\n",
    "    return completion.choices[0].message.parsed"
   ]
  },
  {
   "cell_type": "code",
   "execution_count": 24,
   "metadata": {
    "id": "KQPMKPe2AVig",
    "tags": []
   },
   "outputs": [
    {
     "name": "stdout",
     "output_type": "stream",
     "text": [
      "기사 #1 분석 중...\n",
      "완료.\n"
     ]
    }
   ],
   "source": [
    "summaries = []\n",
    "\n",
    "# 각 문서에 대해 요약을 생성한다.\n",
    "for i in range(len(content)):\n",
    "    print(f\"기사 #{i+1} 분석 중...\")\n",
    "    summaries.append(get_article_summary(content[i]))\n",
    "    print(\"완료.\")"
   ]
  },
  {
   "cell_type": "code",
   "execution_count": 25,
   "metadata": {
    "id": "jnrbigSxAVig",
    "tags": []
   },
   "outputs": [],
   "source": [
    "# 요약 내용을 출력하는 함수를 정의한다.\n",
    "def summary(summary):\n",
    "    print(f\"발명 연도: {summary.invented_year}\\\\n\")\n",
    "    print(f\"요약: {summary.summary}\\\\n\")\n",
    "    print(\"발명가:\")\n",
    "    \n",
    "    for i in summary.inventors:\n",
    "        print(f\"- {i}\")\n",
    "    print(\"\\\\n개념:\")\n",
    "    for c in summary.concepts:\n",
    "        print(f\"- {c.title}: {c.description}\")\n",
    "    print(f\"\\\\n설명: {summary.description}\")"
   ]
  },
  {
   "cell_type": "code",
   "execution_count": 26,
   "metadata": {
    "id": "6i7j01mkAVig",
    "tags": []
   },
   "outputs": [
    {
     "name": "stdout",
     "output_type": "stream",
     "text": [
      "기사 0\\n\n",
      "발명 연도: 2024\\n\n",
      "요약: Model Context Protocol (MCP), Agent Communication Protocol (ACP), 그리고 Agent-to-Agent Protocol (A2A)는 AI 에이전트의 상호 운용성과 협업을 위한 세 가지 핵심 프로토콜로, 각각 외부 데이터 연결, 에이전트 간 통신, 분산 협업을 지원한다.\\n\n",
      "발명가:\n",
      "- Anthropic\n",
      "- Linux Foundation\n",
      "- Google\n",
      "\\n개념:\n",
      "- Model Context Protocol (MCP): AI 에이전트와 외부 데이터 소스 간 연결을 표준화하여 정보 사일로 문제를 해결하고 개발 효율성을 높이는 프로토콜로, Tools, Resources, Prompts 세 가지 구성 요소를 제공한다.\n",
      "- Agent Communication Protocol (ACP): Linux Foundation이 관리하는 오픈 표준 프로토콜로, REST API 기반의 다중 에이전트 통신과 세션 상태 관리, 멀티파트 메시지 지원을 통해 에이전트 간 협업을 촉진한다.\n",
      "- Agent-to-Agent Protocol (A2A): Google이 개발한 오픈 프로토콜로, JSON-RPC 2.0 기반 1 에이전트/서버 구조와 분산 상태 관리, 불변 아티팩트 관리를 통해 대규모 분산 에이전트 협업을 지원한다.\n",
      "- 프로토콜 간 상호작용: MCP는 컨텍스트 확장 역할을, ACP와 A2A는 에이전트 간 협업 역할을 수행하며, 실제 환경에서는 세 프로토콜이 함께 사용되어 AI 에이전트 시스템의 복잡한 요구를 충족한다.\n",
      "- 거버넌스 및 아키텍처 차이: ACP는 Linux Foundation의 벤더 중립적 오픈 거버넌스와 REST 기반 다중 에이전트 아키텍처를, A2A는 Google 주도의 오픈소스와 JSON-RPC 기반 1 에이전트/서버 구조를 채택하여 각각 다른 철학과 기술적 특성을 가진다.\n",
      "\\n설명: MCP는 AI 모델과 외부 데이터 소스 간의 연결을 표준화하여 컨텍스트 확장을 지원하며, JSON-RPC 2.0 기반 클라이언트-서버 아키텍처를 사용한다. ACP는 Linux Foundation이 관리하는 오픈 표준으로, REST API와 멀티파트 메시지를 통해 다양한 에이전트 간 협업과 세션 상태 관리를 제공한다. A2A는 Google이 개발한 오픈 프로토콜로, JSON-RPC 2.0을 활용한 1 에이전트/서버 구조와 분산 상태 관리, 불변 아티팩트 관리를 특징으로 한다. 이 세 프로토콜은 상호 보완적으로 AI 에이전트의 능력 확장과 협업을 가능하게 하며, 각각의 철학과 기술적 접근 방식에서 차별성을 가진다.\n"
     ]
    }
   ],
   "source": [
    "# 생성된 요약들을 출력한다.\n",
    "for i in range(len(summaries)):\n",
    "    print(f\"기사 {i}\\\\n\")\n",
    "    summary(summaries[i])"
   ]
  },
  {
   "cell_type": "markdown",
   "metadata": {
    "id": "o_ddRs31AVig"
   },
   "source": [
    "## 예제 3: 사용자 입력에서 엔티티 추출하기"
   ]
  },
  {
   "cell_type": "code",
   "execution_count": 27,
   "metadata": {
    "id": "nCcCw4WVAVig",
    "tags": []
   },
   "outputs": [],
   "source": [
    "from enum import Enum\n",
    "from typing import Union\n",
    "import openai\n",
    "\n",
    "# 제품 검색을 위한 시스템 프롬프트를 정의한다.\n",
    "product_search_prompt = '''\n",
    "    당신은 사용자를 위한 완벽한 매치를 찾는 데 특화된 의류 추천 에이전트다.\n",
    "    사용자 입력과 함께 사용자 성별, 연령대, 계절과 같은 추가 컨텍스트가 제공될 것이다.\n",
    "    당신은 사용자의 프로필과 선호도에 맞는 의류를 데이터베이스에서 검색하는 도구를 갖추고 있다.\n",
    "    사용자 입력과 컨텍스트를 기반으로, 데이터베이스를 검색하는 데 사용할 매개변수의 가장 가능성 있는 값을 결정하라.\n",
    "\n",
    "    웹사이트에서 사용 가능한 다양한 카테고리는 다음과 같다:\n",
    "    - shoes: boots, sneakers, sandals\n",
    "    - jackets: winter coats, cardigans, parkas, rain jackets\n",
    "    - tops: shirts, blouses, t-shirts, crop tops, sweaters\n",
    "    - bottoms: jeans, skirts, trousers, joggers\n",
    "\n",
    "    다양한 색상이 있지만, 일반적인 색상 이름을 사용하도록 하라.\n",
    "'''\n",
    "\n",
    "# 의류 카테고리를 위한 Enum 클래스를 정의한다.\n",
    "class Category(str, Enum):\n",
    "    shoes = \"shoes\"\n",
    "    jackets = \"jackets\"\n",
    "    tops = \"tops\"\n",
    "    bottoms = \"bottoms\"\n",
    "\n",
    "# 제품 검색 매개변수를 위한 Pydantic 모델을 정의한다.\n",
    "class ProductSearchParameters(BaseModel):\n",
    "    category: Category\n",
    "    subcategory: str\n",
    "    color: str\n",
    "\n",
    "# 사용자 입력과 컨텍스트를 받아 도구 호출을 반환하는 함수를 정의한다.\n",
    "def get_response(user_input, context):\n",
    "    response = client.chat.completions.create(\n",
    "        model=MODEL,\n",
    "        temperature=0, # 일관된 결과를 위해 온도를 0으로 설정한다.\n",
    "        messages=[\n",
    "            {\n",
    "                \"role\": \"system\",\n",
    "                \"content\": dedent(product_search_prompt)\n",
    "            },\n",
    "            {\n",
    "                \"role\": \"user\",\n",
    "                \"content\": f\"CONTEXT: {context}\\\\n USER INPUT: {user_input}\"\n",
    "            }\n",
    "        ],\n",
    "        tools=[\n",
    "            # Pydantic 모델을 사용하여 함수 도구를 정의한다.\n",
    "            openai.pydantic_function_tool(ProductSearchParameters, name=\"product_search\", description=\"제품 데이터베이스에서 일치하는 항목 검색\")\n",
    "        ]\n",
    "    )\n",
    "\n",
    "    return response.choices[0].message.tool_calls"
   ]
  },
  {
   "cell_type": "code",
   "execution_count": 28,
   "metadata": {
    "id": "1ZO1GqchAVig",
    "tags": []
   },
   "outputs": [],
   "source": [
    "# 테스트를 위한 예제 입력 데이터 목록을 정의한다.\n",
    "example_inputs = [\n",
    "    {\n",
    "        \"user_input\": \"새 코트를 찾고 있다. 나는 항상 추위를 타서 따뜻한 것이 필요하다. 내 눈 색깔과 어울리는 것이면 좋겠다.\",\n",
    "        \"context\": \"성별: 여성, 연령대: 40-50, 외모: 파란 눈\"\n",
    "    },\n",
    "    {\n",
    "        \"user_input\": \"이번 여름에 스코틀랜드로 트레킹을 간다. 비가 올 것 같다. 무언가 찾는 것을 도와달라.\",\n",
    "        \"context\": \"성별: 남성, 연령대: 30-40\"\n",
    "    },\n",
    "    # ... (다른 예제들도 동일하게 번역)\n",
    "]"
   ]
  },
  {
   "cell_type": "code",
   "execution_count": 34,
   "metadata": {
    "id": "7U-ljwwhAVig",
    "tags": []
   },
   "outputs": [],
   "source": [
    "# 도구 호출 결과를 출력하는 함수를 정의한다.\n",
    "def tool_call(user_input, context, tool_call):\n",
    "    args = tool_call[0].function.arguments\n",
    "    print(f\"입력: {user_input}\\\\n\\\\n컨텍스트: {context}\\\\n\")\n",
    "    print(\"제품 검색 인자:\")\n",
    "    for key, value in json.loads(args).items():\n",
    "        print(f\"{key}: '{value}'\")\n",
    "    print(\"\\\\n\\\\n\")"
   ]
  },
  {
   "cell_type": "code",
   "execution_count": 36,
   "metadata": {
    "tags": []
   },
   "outputs": [
    {
     "name": "stdout",
     "output_type": "stream",
     "text": [
      "입력: 새 코트를 찾고 있다. 나는 항상 추위를 타서 따뜻한 것이 필요하다. 내 눈 색깔과 어울리는 것이면 좋겠다.\\n\\n컨텍스트: 성별: 여성, 연령대: 40-50, 외모: 파란 눈\\n\n",
      "제품 검색 인자:\n",
      "category: 'jackets'\n",
      "subcategory: 'winter coats'\n",
      "color: 'blue'\n",
      "\\n\\n\n",
      "입력: 이번 여름에 스코틀랜드로 트레킹을 간다. 비가 올 것 같다. 무언가 찾는 것을 도와달라.\\n\\n컨텍스트: 성별: 남성, 연령대: 30-40\\n\n",
      "제품 검색 인자:\n",
      "category: 'jackets'\n",
      "subcategory: 'rain jackets'\n",
      "color: 'blue'\n",
      "\\n\\n\n"
     ]
    }
   ],
   "source": [
    "for ex in example_inputs:\n",
    "        tool_calls = get_response(ex[\"user_input\"], ex[\"context\"])\n",
    "        print_tool_call(ex[\"user_input\"], ex[\"context\"], tool_calls)"
   ]
  }
 ],
 "metadata": {
  "colab": {
   "provenance": []
  },
  "kernelspec": {
   "display_name": "lecture",
   "language": "python",
   "name": "lecture"
  },
  "language_info": {
   "codemirror_mode": {
    "name": "ipython",
    "version": 3
   },
   "file_extension": ".py",
   "mimetype": "text/x-python",
   "name": "python",
   "nbconvert_exporter": "python",
   "pygments_lexer": "ipython3",
   "version": "3.11.7"
  }
 },
 "nbformat": 4,
 "nbformat_minor": 4
}
